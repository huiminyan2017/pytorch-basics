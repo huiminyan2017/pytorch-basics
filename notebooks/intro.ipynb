{
 "cells": [
  {
   "cell_type": "code",
   "execution_count": 2,
   "id": "d4c52474",
   "metadata": {},
   "outputs": [],
   "source": [
    "# Supervised Learning\n",
    "\n",
    "## Regression \n",
    "## Classification\n",
    "## Tagging: multi-label classification\n",
    "## Search\n",
    "## Recommender Systems\n",
    "## Sequence Learning; sequence-to-sequence learning\n",
    "\n",
    "# Unsupervised and Self-Supervised Learning\n",
    "## Clustering\n",
    "## subspace estimation ; Linear: principal component analysis\n",
    "## causality  ; probabilistic graphical models \n",
    "## deep generative models??\n",
    "\n",
    "# Reinforcement Learning\n",
    "## Markov decision process: when the environment is fully observed\n",
    "## contextual bandit problem:  the state does not depend on the previous actions"
   ]
  },
  {
   "cell_type": "code",
   "execution_count": null,
   "id": "a0568ff0",
   "metadata": {},
   "outputs": [],
   "source": []
  },
  {
   "cell_type": "code",
   "execution_count": null,
   "id": "24bbc768",
   "metadata": {},
   "outputs": [],
   "source": []
  },
  {
   "cell_type": "code",
   "execution_count": null,
   "id": "527bd256",
   "metadata": {},
   "outputs": [],
   "source": []
  },
  {
   "cell_type": "code",
   "execution_count": null,
   "id": "083e2f4a",
   "metadata": {},
   "outputs": [],
   "source": []
  }
 ],
 "metadata": {
  "kernelspec": {
   "display_name": "Python 3",
   "language": "python",
   "name": "python3"
  },
  "language_info": {
   "codemirror_mode": {
    "name": "ipython",
    "version": 3
   },
   "file_extension": ".py",
   "mimetype": "text/x-python",
   "name": "python",
   "nbconvert_exporter": "python",
   "pygments_lexer": "ipython3",
   "version": "3.13.7"
  }
 },
 "nbformat": 4,
 "nbformat_minor": 5
}
