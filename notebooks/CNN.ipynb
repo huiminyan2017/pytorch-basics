{
 "cells": [
  {
   "cell_type": "markdown",
   "id": "b9642bb3",
   "metadata": {},
   "source": [
    "================From Fully Connected Layers to Convolutions====================="
   ]
  },
  {
   "cell_type": "markdown",
   "id": "b5e9aff1",
   "metadata": {},
   "source": [
    "#####\n",
    "1. In the earliest layers, our network should respond similarly to the same patch, regardless of where it appears in the image. This principle is called translation invariance (or translation equivariance).\n",
    "2. The earliest layers of the network should focus on local regions, without regard for the contents of the image in distant regions. This is the locality principle. Eventually, these local representations can be aggregated to make predictions at the whole image level.\n",
    "3. As we proceed, deeper layers should be able to capture longer-range features of the image, in a way similar to higher level vision in nature."
   ]
  }
 ],
 "metadata": {
  "language_info": {
   "name": "python"
  }
 },
 "nbformat": 4,
 "nbformat_minor": 5
}
