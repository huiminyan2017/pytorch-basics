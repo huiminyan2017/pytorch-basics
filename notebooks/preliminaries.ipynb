{
 "cells": [
  {
   "cell_type": "markdown",
   "id": "c8ec032c",
   "metadata": {},
   "source": [
    "### =======================ndarray.md===================================="
   ]
  },
  {
   "cell_type": "code",
   "execution_count": 18,
   "id": "f7cb45cd",
   "metadata": {},
   "outputs": [
    {
     "name": "stdout",
     "output_type": "stream",
     "text": [
      "Looking in indexes: https://download.pytorch.org/whl/cpu\n",
      "Requirement already satisfied: torch in c:\\users\\huiya\\appdata\\roaming\\python\\python313\\site-packages (2.8.0)\n",
      "Requirement already satisfied: torchvision in c:\\users\\huiya\\appdata\\roaming\\python\\python313\\site-packages (0.23.0)\n",
      "Requirement already satisfied: torchaudio in c:\\users\\huiya\\appdata\\roaming\\python\\python313\\site-packages (2.8.0)\n",
      "Requirement already satisfied: filelock in c:\\users\\huiya\\appdata\\roaming\\python\\python313\\site-packages (from torch) (3.19.1)\n",
      "Requirement already satisfied: typing-extensions>=4.10.0 in c:\\users\\huiya\\appdata\\roaming\\python\\python313\\site-packages (from torch) (4.15.0)\n",
      "Requirement already satisfied: sympy>=1.13.3 in c:\\users\\huiya\\appdata\\roaming\\python\\python313\\site-packages (from torch) (1.14.0)\n",
      "Requirement already satisfied: networkx in c:\\users\\huiya\\appdata\\roaming\\python\\python313\\site-packages (from torch) (3.5)\n",
      "Requirement already satisfied: jinja2 in c:\\users\\huiya\\appdata\\roaming\\python\\python313\\site-packages (from torch) (3.1.6)\n",
      "Requirement already satisfied: fsspec in c:\\users\\huiya\\appdata\\roaming\\python\\python313\\site-packages (from torch) (2025.9.0)\n",
      "Requirement already satisfied: setuptools in c:\\users\\huiya\\appdata\\roaming\\python\\python313\\site-packages (from torch) (80.9.0)\n",
      "Requirement already satisfied: numpy in c:\\users\\huiya\\appdata\\roaming\\python\\python313\\site-packages (from torchvision) (2.3.3)\n",
      "Requirement already satisfied: pillow!=8.3.*,>=5.3.0 in c:\\users\\huiya\\appdata\\roaming\\python\\python313\\site-packages (from torchvision) (11.3.0)\n",
      "Requirement already satisfied: mpmath<1.4,>=1.1.0 in c:\\users\\huiya\\appdata\\roaming\\python\\python313\\site-packages (from sympy>=1.13.3->torch) (1.3.0)\n",
      "Requirement already satisfied: MarkupSafe>=2.0 in c:\\users\\huiya\\appdata\\roaming\\python\\python313\\site-packages (from jinja2->torch) (3.0.2)\n",
      "Note: you may need to restart the kernel to use updated packages.\n"
     ]
    }
   ],
   "source": [
    "# Install PyTorch and related packages\n",
    "%pip install torch torchvision torchaudio --index-url https://download.pytorch.org/whl/cpu"
   ]
  },
  {
   "cell_type": "code",
   "execution_count": 19,
   "id": "150dd259",
   "metadata": {},
   "outputs": [],
   "source": [
    "import torch\n",
    "\n",
    "x = torch.arange(12, dtype=torch.float32)\n",
    "\n",
    "x = x.reshape(3, 4)"
   ]
  },
  {
   "cell_type": "code",
   "execution_count": 20,
   "id": "6f7d149a",
   "metadata": {},
   "outputs": [
    {
     "data": {
      "text/plain": [
       "True"
      ]
     },
     "execution_count": 20,
     "metadata": {},
     "output_type": "execute_result"
    }
   ],
   "source": [
    "x1 = torch.zeros(2, 3, 4, dtype=torch.float32)\n",
    "x2 = torch.zeros((2, 3, 4), dtype=torch.float32)\n",
    "\n",
    "x1.allclose(x2)\n"
   ]
  },
  {
   "cell_type": "code",
   "execution_count": 21,
   "id": "64fe9f40",
   "metadata": {},
   "outputs": [
    {
     "data": {
      "text/plain": [
       "True"
      ]
     },
     "execution_count": 21,
     "metadata": {},
     "output_type": "execute_result"
    }
   ],
   "source": [
    "x1.allclose(x2)"
   ]
  },
  {
   "cell_type": "code",
   "execution_count": 22,
   "id": "0e8c1b3a",
   "metadata": {},
   "outputs": [
    {
     "name": "stdout",
     "output_type": "stream",
     "text": [
      "24\n"
     ]
    }
   ],
   "source": [
    "print(x1.numel()) #total number of elements in a tensor"
   ]
  },
  {
   "cell_type": "code",
   "execution_count": 23,
   "id": "ad39d3d0",
   "metadata": {},
   "outputs": [
    {
     "data": {
      "text/plain": [
       "tensor([[-1.0783,  2.2133,  0.6172, -0.8768],\n",
       "        [ 0.1972,  0.5636,  0.3479,  1.9893],\n",
       "        [-0.8457,  0.7315, -0.0595, -0.3280]])"
      ]
     },
     "execution_count": 23,
     "metadata": {},
     "output_type": "execute_result"
    }
   ],
   "source": [
    "torch.randn(3, 4) # standard Gaussian (normal) distribution "
   ]
  },
  {
   "cell_type": "code",
   "execution_count": 24,
   "id": "1e97d310",
   "metadata": {},
   "outputs": [],
   "source": [
    "X = torch.Tensor([[1.0, 2, 3, 4], \n",
    "              [5, 6, 7, 8], \n",
    "              [9, 10, 11, 12]])"
   ]
  },
  {
   "cell_type": "code",
   "execution_count": 25,
   "id": "256c84ef",
   "metadata": {},
   "outputs": [
    {
     "name": "stdout",
     "output_type": "stream",
     "text": [
      "tensor([[ 1.,  2.,  3.,  4.],\n",
      "        [ 5.,  6.,  7.,  8.],\n",
      "        [ 9., 10., 11., 20.]])\n"
     ]
    }
   ],
   "source": [
    "X[2,3]  = 20\n",
    "print(X)"
   ]
  },
  {
   "cell_type": "code",
   "execution_count": 26,
   "id": "e4214369",
   "metadata": {},
   "outputs": [
    {
     "name": "stdout",
     "output_type": "stream",
     "text": [
      "tensor([[20., 20., 20., 20.],\n",
      "        [20., 20., 20., 20.],\n",
      "        [ 9., 10., 11., 20.]])\n"
     ]
    }
   ],
   "source": [
    "X[:2,:] = 20\n",
    "print(X)"
   ]
  },
  {
   "cell_type": "code",
   "execution_count": 27,
   "id": "807de49c",
   "metadata": {},
   "outputs": [
    {
     "data": {
      "text/plain": [
       "(tensor([[2.7183e+00, 7.3891e+00, 2.0086e+01, 5.4598e+01],\n",
       "         [1.4841e+02, 4.0343e+02, 1.0966e+03, 2.9810e+03],\n",
       "         [8.1031e+03, 2.2026e+04, 5.9874e+04, 1.6275e+05]]),\n",
       " tensor([[ 2.,  3.,  4.,  5.],\n",
       "         [ 6.,  7.,  8.,  9.],\n",
       "         [10., 11., 12., 13.]]),\n",
       " tensor([[ 1.,  2.,  3.,  4.],\n",
       "         [ 5.,  6.,  7.,  8.],\n",
       "         [ 9., 10., 11., 12.]]),\n",
       " tensor([[ 1.,  2.,  3.,  4.],\n",
       "         [ 5.,  6.,  7.,  8.],\n",
       "         [ 9., 10., 11., 12.]]),\n",
       " tensor([[ 1.,  2.,  3.,  4.],\n",
       "         [ 5.,  6.,  7.,  8.],\n",
       "         [ 9., 10., 11., 12.]]))"
      ]
     },
     "execution_count": 27,
     "metadata": {},
     "output_type": "execute_result"
    }
   ],
   "source": [
    "# elementwise operations\n",
    "X = torch.Tensor([[1.0, 2, 3, 4], \n",
    "              [5, 6, 7, 8], \n",
    "              [9, 10, 11, 12]])\n",
    "Y = torch.ones(3, 4)\n",
    "\n",
    "torch.exp(X) ,X + Y, X * Y, X / Y, X**Y\n"
   ]
  },
  {
   "cell_type": "code",
   "execution_count": 28,
   "id": "1ca25aa6",
   "metadata": {},
   "outputs": [
    {
     "data": {
      "text/plain": [
       "(tensor([[ 0.,  1.,  2.,  3.],\n",
       "         [ 4.,  5.,  6.,  7.],\n",
       "         [ 8.,  9., 10., 11.],\n",
       "         [ 2.,  1.,  4.,  3.],\n",
       "         [ 1.,  2.,  3.,  4.],\n",
       "         [ 4.,  3.,  2.,  1.]]),\n",
       " tensor([[ 0.,  1.,  2.,  3.,  2.,  1.,  4.,  3.],\n",
       "         [ 4.,  5.,  6.,  7.,  1.,  2.,  3.,  4.],\n",
       "         [ 8.,  9., 10., 11.,  4.,  3.,  2.,  1.]]),\n",
       " tensor([12., 15., 18., 21.]))"
      ]
     },
     "execution_count": 28,
     "metadata": {},
     "output_type": "execute_result"
    }
   ],
   "source": [
    "X = torch.arange(12, dtype=torch.float32).reshape((3,4))\n",
    "Y = torch.tensor([[2.0, 1, 4, 3], [1, 2, 3, 4], [4, 3, 2, 1]])\n",
    "torch.cat((X, Y), dim=0), torch.cat((X, Y), dim=1), X.sum(dim=0)"
   ]
  },
  {
   "cell_type": "code",
   "execution_count": 29,
   "id": "3b549a3e",
   "metadata": {},
   "outputs": [
    {
     "data": {
      "text/plain": [
       "tensor([12., 15., 18., 21.])"
      ]
     },
     "execution_count": 29,
     "metadata": {},
     "output_type": "execute_result"
    }
   ],
   "source": [
    "X.sum(dim=0)"
   ]
  },
  {
   "cell_type": "code",
   "execution_count": 30,
   "id": "35b60013",
   "metadata": {},
   "outputs": [
    {
     "name": "stdout",
     "output_type": "stream",
     "text": [
      "============================================================\n",
      "📚 THE GOLDEN RULE FOR REMEMBERING dim=0 vs dim=1\n",
      "============================================================\n",
      "Original tensor X (3 rows × 4 columns):\n",
      "tensor([[ 0.,  1.,  2.,  3.],\n",
      "        [ 4.,  5.,  6.,  7.],\n",
      "        [ 8.,  9., 10., 11.]])\n",
      "Shape: torch.Size([3, 4])\n",
      "\n",
      "🔍 UNDERSTANDING THE PATTERN:\n",
      "• dim=0 = ROW dimension (first number in shape)\n",
      "• dim=1 = COLUMN dimension (second number in shape)\n",
      "• The dimension you specify gets COLLAPSED/JOINED\n",
      "\n",
      "========================================\n",
      "TORCH.CAT EXAMPLES:\n",
      "========================================\n",
      "\n",
      "Y to add: tensor([100., 200., 300., 400.]) (shape: torch.Size([1, 4]))\n",
      "\n",
      "🔽 cat(dim=0) - ADDS ROWS (vertical stacking):\n",
      "tensor([[  0.,   1.,   2.,   3.],\n",
      "        [  4.,   5.,   6.,   7.],\n",
      "        [  8.,   9.,  10.,  11.],\n",
      "        [100., 200., 300., 400.]])\n",
      "Shape: torch.Size([3, 4]) → torch.Size([4, 4]) (rows increased!)\n",
      "\n",
      "Z to add: tensor([100., 200., 300.]) (shape: torch.Size([3, 1]))\n",
      "\n",
      "➡️ cat(dim=1) - ADDS COLUMNS (horizontal stacking):\n",
      "tensor([[  0.,   1.,   2.,   3., 100.],\n",
      "        [  4.,   5.,   6.,   7., 200.],\n",
      "        [  8.,   9.,  10.,  11., 300.]])\n",
      "Shape: torch.Size([3, 4]) → torch.Size([3, 5]) (columns increased!)\n"
     ]
    }
   ],
   "source": [
    "# 🧠 MEMORY TRICK for dim=0 vs dim=1\n",
    "# Think of dimensions as DIRECTIONS in your tensor\n",
    "\n",
    "print(\"=\"*60)\n",
    "print(\"📚 THE GOLDEN RULE FOR REMEMBERING dim=0 vs dim=1\")\n",
    "print(\"=\"*60)\n",
    "\n",
    "# Create a clear example\n",
    "X = torch.arange(12, dtype=torch.float32).reshape((3,4))\n",
    "print(\"Original tensor X (3 rows × 4 columns):\")\n",
    "print(X)\n",
    "print(f\"Shape: {X.shape}\")\n",
    "\n",
    "print(\"\\n\" + \"🔍 UNDERSTANDING THE PATTERN:\")\n",
    "print(\"• dim=0 = ROW dimension (first number in shape)\")\n",
    "print(\"• dim=1 = COLUMN dimension (second number in shape)\")\n",
    "print(\"• The dimension you specify gets COLLAPSED/JOINED\")\n",
    "\n",
    "print(\"\\n\" + \"=\"*40)\n",
    "print(\"TORCH.CAT EXAMPLES:\")\n",
    "print(\"=\"*40)\n",
    "\n",
    "Y = torch.tensor([[100., 200, 300, 400]])  \n",
    "print(f\"\\nY to add: {Y.squeeze()} (shape: {Y.shape})\")\n",
    "\n",
    "# dim=0: Add more ROWS (stack vertically)\n",
    "cat_dim0 = torch.cat((X, Y), dim=0)\n",
    "print(f\"\\n🔽 cat(dim=0) - ADDS ROWS (vertical stacking):\")\n",
    "print(cat_dim0)\n",
    "print(f\"Shape: {X.shape} → {cat_dim0.shape} (rows increased!)\")\n",
    "\n",
    "Z = torch.tensor([[100.], [200.], [300.]])  \n",
    "print(f\"\\nZ to add: {Z.squeeze()} (shape: {Z.shape})\")\n",
    "\n",
    "# dim=1: Add more COLUMNS (stack horizontally)  \n",
    "cat_dim1 = torch.cat((X, Z), dim=1)\n",
    "print(f\"\\n➡️ cat(dim=1) - ADDS COLUMNS (horizontal stacking):\")\n",
    "print(cat_dim1)\n",
    "print(f\"Shape: {X.shape} → {cat_dim1.shape} (columns increased!)\")"
   ]
  },
  {
   "cell_type": "code",
   "execution_count": 31,
   "id": "f63dc9a1",
   "metadata": {},
   "outputs": [
    {
     "name": "stdout",
     "output_type": "stream",
     "text": [
      "\n",
      "========================================\n",
      "TENSOR.SUM EXAMPLES:\n",
      "========================================\n",
      "\n",
      "Original tensor X:\n",
      "tensor([[ 0.,  1.,  2.,  3.],\n",
      "        [ 4.,  5.,  6.,  7.],\n",
      "        [ 8.,  9., 10., 11.]])\n",
      "Shape: torch.Size([3, 4])\n",
      "\n",
      "🔽 sum(dim=0) - Sum DOWN the rows (collapse rows):\n",
      "Result: tensor([12., 15., 18., 21.])\n",
      "Shape: torch.Size([3, 4]) → torch.Size([4]) (row dimension collapsed!)\n",
      "Math: Column 0: 0+4+8=12, Column 1: 1+5+9=15, etc.\n",
      "\n",
      "➡️ sum(dim=1) - Sum ACROSS the columns (collapse columns):\n",
      "Result: tensor([ 6., 22., 38.])\n",
      "Shape: torch.Size([3, 4]) → torch.Size([3]) (column dimension collapsed!)\n",
      "Math: Row 0: 0+1+2+3=6, Row 1: 4+5+6+7=22, Row 2: 8+9+10+11=38\n",
      "\n",
      "🎯 UNIVERSAL MEMORY TRICKS:\n",
      "💡 dim=0: Think 'DOWN' (⬇️) - operates on rows\n",
      "💡 dim=1: Think 'ACROSS' (➡️) - operates on columns\n",
      "💡 For cat(): the dimension GROWS\n",
      "💡 For sum()/mean(): the dimension becomes 1 or disappears\n"
     ]
    }
   ],
   "source": [
    "print(\"\\n\" + \"=\"*40)\n",
    "print(\"TENSOR.SUM EXAMPLES:\")\n",
    "print(\"=\"*40)\n",
    "\n",
    "X = torch.arange(12, dtype=torch.float32).reshape((3,4))\n",
    "print(\"\\nOriginal tensor X:\")\n",
    "print(X)\n",
    "print(f\"Shape: {X.shape}\")\n",
    "\n",
    "# dim=0: Sum DOWN the rows (collapse row dimension)\n",
    "sum_dim0 = X.sum(dim=0)\n",
    "print(f\"\\n🔽 sum(dim=0) - Sum DOWN the rows (collapse rows):\")\n",
    "print(f\"Result: {sum_dim0}\")\n",
    "print(f\"Shape: {X.shape} → {sum_dim0.shape} (row dimension collapsed!)\")\n",
    "print(\"Math: Column 0: 0+4+8=12, Column 1: 1+5+9=15, etc.\")\n",
    "\n",
    "# dim=1: Sum ACROSS the columns (collapse column dimension)\n",
    "sum_dim1 = X.sum(dim=1)  \n",
    "print(f\"\\n➡️ sum(dim=1) - Sum ACROSS the columns (collapse columns):\")\n",
    "print(f\"Result: {sum_dim1}\")\n",
    "print(f\"Shape: {X.shape} → {sum_dim1.shape} (column dimension collapsed!)\")\n",
    "print(\"Math: Row 0: 0+1+2+3=6, Row 1: 4+5+6+7=22, Row 2: 8+9+10+11=38\")\n",
    "\n",
    "print(\"\\n\" + \"🎯 UNIVERSAL MEMORY TRICKS:\")\n",
    "print(\"💡 dim=0: Think 'DOWN' (⬇️) - operates on rows\")  \n",
    "print(\"💡 dim=1: Think 'ACROSS' (➡️) - operates on columns\")\n",
    "print(\"💡 For cat(): the dimension GROWS\")\n",
    "print(\"💡 For sum()/mean(): the dimension becomes 1 or disappears\")"
   ]
  },
  {
   "cell_type": "code",
   "execution_count": 32,
   "id": "db07981e",
   "metadata": {},
   "outputs": [
    {
     "data": {
      "text/plain": [
       "(tensor([[0],\n",
       "         [1],\n",
       "         [2]]),\n",
       " tensor([[0, 1]]),\n",
       " tensor([[0, 1],\n",
       "         [1, 2],\n",
       "         [2, 3]]))"
      ]
     },
     "execution_count": 32,
     "metadata": {},
     "output_type": "execute_result"
    }
   ],
   "source": [
    "# If the number of dimensions of x and y are not equal, prepend 1 to the dimensions of the tensor with fewer dimensions to make them equal length.\n",
    "# Then, for each dimension size, the resulting dimension size is the max of the sizes of x and y along that dimension.\n",
    "\n",
    "a = torch.arange(3).reshape((3, 1))\n",
    "b = torch.arange(2).reshape((1, 2))\n",
    "\n",
    "a, b, a + b"
   ]
  },
  {
   "cell_type": "code",
   "execution_count": 33,
   "id": "1dce6831",
   "metadata": {},
   "outputs": [
    {
     "data": {
      "text/plain": [
       "False"
      ]
     },
     "execution_count": 33,
     "metadata": {},
     "output_type": "execute_result"
    }
   ],
   "source": [
    "# save memory\n",
    "before = id(b)\n",
    "b = b + a\n",
    "id(b) == before  # False, b now references a new tensor"
   ]
  },
  {
   "cell_type": "code",
   "execution_count": 34,
   "id": "d68e5876",
   "metadata": {},
   "outputs": [
    {
     "data": {
      "text/plain": [
       "True"
      ]
     },
     "execution_count": 34,
     "metadata": {},
     "output_type": "execute_result"
    }
   ],
   "source": [
    "before = id(b)\n",
    "b[:] = b + a  # in-place update: Y[:] = <expression>\n",
    "id(b) == before"
   ]
  },
  {
   "cell_type": "code",
   "execution_count": 35,
   "id": "b4bcbf63",
   "metadata": {},
   "outputs": [
    {
     "data": {
      "text/plain": [
       "True"
      ]
     },
     "execution_count": 35,
     "metadata": {},
     "output_type": "execute_result"
    }
   ],
   "source": [
    "before = id(b)\n",
    "b += a  # in-place assignment\n",
    "id(b) == before"
   ]
  },
  {
   "cell_type": "code",
   "execution_count": 36,
   "id": "b67e7597",
   "metadata": {},
   "outputs": [
    {
     "data": {
      "text/plain": [
       "(array([1., 2., 3., 4.]),\n",
       " tensor([1., 2., 3., 4.], dtype=torch.float64),\n",
       " array([1., 2., 3., 4.]),\n",
       " numpy.ndarray,\n",
       " torch.Tensor,\n",
       " numpy.ndarray)"
      ]
     },
     "execution_count": 36,
     "metadata": {},
     "output_type": "execute_result"
    }
   ],
   "source": [
    "# converting between Numpy and Torch tensors\n",
    "import numpy as np\n",
    "a = np.array([1.0, 2, 3, 4])\n",
    "b = torch.from_numpy(a)\n",
    "c = b.numpy()\n",
    "a, b, c, type(a), type(b), type(c)"
   ]
  },
  {
   "cell_type": "code",
   "execution_count": 37,
   "id": "7f682e54",
   "metadata": {},
   "outputs": [
    {
     "data": {
      "text/plain": [
       "(3.5, 3.5, 3)"
      ]
     },
     "execution_count": 37,
     "metadata": {},
     "output_type": "execute_result"
    }
   ],
   "source": [
    "# convert a size-1 tensor to a Python scalar\n",
    "a = torch.tensor([3.5])\n",
    "a.item(), float(a), int(a)  # 3.5 as a Python float, 3 as a Python int"
   ]
  },
  {
   "cell_type": "code",
   "execution_count": 38,
   "id": "0f768160",
   "metadata": {},
   "outputs": [
    {
     "ename": "ValueError",
     "evalue": "only one element tensors can be converted to Python scalars",
     "output_type": "error",
     "traceback": [
      "\u001b[31m---------------------------------------------------------------------------\u001b[39m",
      "\u001b[31mValueError\u001b[39m                                Traceback (most recent call last)",
      "\u001b[36mCell\u001b[39m\u001b[36m \u001b[39m\u001b[32mIn[38]\u001b[39m\u001b[32m, line 2\u001b[39m\n\u001b[32m      1\u001b[39m a = torch.tensor([\u001b[32m3.5\u001b[39m, \u001b[32m4.5\u001b[39m])\n\u001b[32m----> \u001b[39m\u001b[32m2\u001b[39m \u001b[38;5;28;43mfloat\u001b[39;49m\u001b[43m(\u001b[49m\u001b[43ma\u001b[49m\u001b[43m)\u001b[49m  \u001b[38;5;66;03m# error! only for size-1 tensors\u001b[39;00m\n",
      "\u001b[31mValueError\u001b[39m: only one element tensors can be converted to Python scalars"
     ]
    }
   ],
   "source": [
    "a = torch.tensor([3.5, 4.5])\n",
    "float(a)  # error! only for size-1 tensors"
   ]
  },
  {
   "cell_type": "markdown",
   "id": "3c816438",
   "metadata": {},
   "source": [
    "### =======================pandas.md===================================="
   ]
  },
  {
   "cell_type": "code",
   "execution_count": 1,
   "id": "3bc2457b",
   "metadata": {},
   "outputs": [],
   "source": [
    "import os\n",
    "\n",
    "os.makedirs(os.path.join('..', 'data'), exist_ok=True)\n",
    "data_file = os.path.join('..', 'data', 'house_tiny.csv')\n",
    "with open(data_file, 'w') as f:\n",
    "    f.write('''NumRooms,RoofType,Price\n",
    "NA,NA,127500\n",
    "2,NA,106000\n",
    "4,Slate,178100\n",
    "NA,NA,140000''')"
   ]
  },
  {
   "cell_type": "code",
   "execution_count": null,
   "id": "2f092c27",
   "metadata": {},
   "outputs": [
    {
     "name": "stdout",
     "output_type": "stream",
     "text": [
      "Requirement already satisfied: pandas in c:\\users\\huiya\\appdata\\roaming\\python\\python313\\site-packages (2.3.2)\n",
      "Requirement already satisfied: numpy>=1.26.0 in c:\\users\\huiya\\appdata\\roaming\\python\\python313\\site-packages (from pandas) (2.3.3)\n",
      "Requirement already satisfied: python-dateutil>=2.8.2 in c:\\users\\huiya\\appdata\\roaming\\python\\python313\\site-packages (from pandas) (2.9.0.post0)\n",
      "Requirement already satisfied: pytz>=2020.1 in c:\\users\\huiya\\appdata\\roaming\\python\\python313\\site-packages (from pandas) (2025.2)\n",
      "Requirement already satisfied: tzdata>=2022.7 in c:\\users\\huiya\\appdata\\roaming\\python\\python313\\site-packages (from pandas) (2025.2)\n",
      "Requirement already satisfied: six>=1.5 in c:\\users\\huiya\\appdata\\roaming\\python\\python313\\site-packages (from python-dateutil>=2.8.2->pandas) (1.17.0)\n",
      "Note: you may need to restart the kernel to use updated packages.\n"
     ]
    }
   ],
   "source": [
    "# Install pandas for data manipulation\n",
    "%pip install pandas"
   ]
  },
  {
   "cell_type": "code",
   "execution_count": null,
   "id": "f55adafa",
   "metadata": {},
   "outputs": [
    {
     "name": "stdout",
     "output_type": "stream",
     "text": [
      "   NumRooms RoofType   Price\n",
      "0       NaN      NaN  127500\n",
      "1       2.0      NaN  106000\n",
      "2       4.0    Slate  178100\n",
      "3       NaN      NaN  140000\n"
     ]
    }
   ],
   "source": [
    "import pandas as pd\n",
    "\n",
    "data = pd.read_csv(data_file)\n",
    "print(data)"
   ]
  },
  {
   "cell_type": "code",
   "execution_count": null,
   "id": "144a4533",
   "metadata": {},
   "outputs": [
    {
     "name": "stdout",
     "output_type": "stream",
     "text": [
      "   NumRooms  RoofType_Slate  RoofType_nan\n",
      "0       NaN           False          True\n",
      "1       2.0           False          True\n",
      "2       4.0            True         False\n",
      "3       NaN           False          True\n"
     ]
    }
   ],
   "source": [
    "inputs, targets = data.iloc[:, 0:2], data.iloc[:, 2]\n",
    "inputs = pd.get_dummies(inputs, dummy_na=True) # we can treat NaN as a category. like one-hot encoding\n",
    "print(inputs)"
   ]
  },
  {
   "cell_type": "code",
   "execution_count": null,
   "id": "c6b5854a",
   "metadata": {},
   "outputs": [
    {
     "name": "stdout",
     "output_type": "stream",
     "text": [
      "   NumRooms  RoofType_Slate  RoofType_nan\n",
      "0       3.0           False          True\n",
      "1       2.0           False          True\n",
      "2       4.0            True         False\n",
      "3       3.0           False          True\n"
     ]
    },
    {
     "data": {
      "text/plain": [
       "(None, pandas.core.frame.DataFrame)"
      ]
     },
     "execution_count": 14,
     "metadata": {},
     "output_type": "execute_result"
    }
   ],
   "source": [
    "inputs = inputs.fillna(inputs.mean())\n",
    "print(inputs), type(inputs)"
   ]
  },
  {
   "cell_type": "code",
   "execution_count": null,
   "id": "87fb5990",
   "metadata": {},
   "outputs": [
    {
     "data": {
      "text/plain": [
       "(tensor([[3., 0., 1.],\n",
       "         [2., 0., 1.],\n",
       "         [4., 1., 0.],\n",
       "         [3., 0., 1.]], dtype=torch.float64),\n",
       " tensor([127500., 106000., 178100., 140000.], dtype=torch.float64))"
      ]
     },
     "execution_count": 39,
     "metadata": {},
     "output_type": "execute_result"
    }
   ],
   "source": [
    "X = torch.tensor(inputs.to_numpy(dtype=float)) # two-step conversion: DataFrame -> NumPy -> PyTorch\n",
    "y = torch.tensor(targets.to_numpy(dtype=float))\n",
    "X, y"
   ]
  },
  {
   "cell_type": "markdown",
   "id": "32f83d93",
   "metadata": {},
   "source": [
    "### =======================linear-algebra.md===================================="
   ]
  },
  {
   "cell_type": "code",
   "execution_count": 47,
   "id": "e7590bc9",
   "metadata": {},
   "outputs": [
    {
     "data": {
      "text/plain": [
       "(torch.Size([]),\n",
       " torch.Size([1]),\n",
       " tensor(3.),\n",
       " tensor([2.]),\n",
       " tensor([5.]),\n",
       " torch.Size([1]))"
      ]
     },
     "execution_count": 47,
     "metadata": {},
     "output_type": "execute_result"
    }
   ],
   "source": [
    "x = torch.tensor(3.0) # Scalars are 0-dim tensors\n",
    "y = torch.tensor([2.0]) # 1-dim tensor with one element\n",
    "x.shape, y.shape, x, y, x+y, (x + y).shape"
   ]
  },
  {
   "cell_type": "code",
   "execution_count": null,
   "id": "c8d90874",
   "metadata": {},
   "outputs": [
    {
     "data": {
      "text/plain": [
       "(tensor([0, 1, 2]), torch.Size([3]))"
      ]
     },
     "execution_count": 48,
     "metadata": {},
     "output_type": "execute_result"
    }
   ],
   "source": [
    "x = torch.arange(3) # Vectors are 1-dim tensors\n",
    "x, x.shape"
   ]
  },
  {
   "cell_type": "code",
   "execution_count": 51,
   "id": "65c9a1e3",
   "metadata": {},
   "outputs": [
    {
     "data": {
      "text/plain": [
       "(tensor([[0, 1],\n",
       "         [2, 3],\n",
       "         [4, 5]]),\n",
       " tensor([[0, 2, 4],\n",
       "         [1, 3, 5]]),\n",
       " tensor([[0, 2, 4],\n",
       "         [1, 3, 5]]))"
      ]
     },
     "execution_count": 51,
     "metadata": {},
     "output_type": "execute_result"
    }
   ],
   "source": [
    "A = torch.arange(6).reshape(3, 2) # Matrices are 2-dim tensors\n",
    "A, A.T, A.transpose(0, 1)  # swap the two dimensions"
   ]
  },
  {
   "cell_type": "code",
   "execution_count": 52,
   "id": "9acbe61a",
   "metadata": {},
   "outputs": [
    {
     "data": {
      "text/plain": [
       "tensor([[[ 0,  1,  2,  3],\n",
       "         [ 4,  5,  6,  7],\n",
       "         [ 8,  9, 10, 11]],\n",
       "\n",
       "        [[12, 13, 14, 15],\n",
       "         [16, 17, 18, 19],\n",
       "         [20, 21, 22, 23]]])"
      ]
     },
     "execution_count": 52,
     "metadata": {},
     "output_type": "execute_result"
    }
   ],
   "source": [
    "torch.arange(24).reshape(2, 3, 4) # 3-dim tensor"
   ]
  },
  {
   "cell_type": "code",
   "execution_count": 53,
   "id": "78cc6584",
   "metadata": {},
   "outputs": [
    {
     "data": {
      "text/plain": [
       "(tensor([[0., 1., 2.],\n",
       "         [3., 4., 5.]]),\n",
       " tensor([[ 0.,  2.,  4.],\n",
       "         [ 6.,  8., 10.]]),\n",
       " tensor([[ 0.,  1.,  4.],\n",
       "         [ 9., 16., 25.]]))"
      ]
     },
     "execution_count": 53,
     "metadata": {},
     "output_type": "execute_result"
    }
   ],
   "source": [
    "A = torch.arange(6, dtype=torch.float32).reshape(2, 3)\n",
    "B = A.clone()  # Assign a copy of A to B by allocating new memory\n",
    "A, A + B, A * B # elementwise product of two matrices is called their Hadamard product"
   ]
  },
  {
   "cell_type": "code",
   "execution_count": null,
   "id": "1cb5f1a0",
   "metadata": {},
   "outputs": [
    {
     "data": {
      "text/plain": [
       "(tensor([0., 1., 2.]),\n",
       " tensor(3.),\n",
       " torch.Size([]),\n",
       " tensor([3.]),\n",
       " torch.Size([1]))"
      ]
     },
     "execution_count": 58,
     "metadata": {},
     "output_type": "execute_result"
    }
   ],
   "source": [
    "x = torch.arange(3, dtype=torch.float32)\n",
    "y = x.sum()\n",
    "z = x.sum(axis=0,keepdim=True)\n",
    "x, y, y.shape, z, z.shape"
   ]
  },
  {
   "cell_type": "code",
   "execution_count": null,
   "id": "cb54dbc0",
   "metadata": {},
   "outputs": [],
   "source": [
    "x = torch.arange(24).reshape(2, 3, 4)\n",
    "\n",
    "\n"
   ]
  },
  {
   "cell_type": "code",
   "execution_count": 65,
   "id": "47c61a99",
   "metadata": {},
   "outputs": [
    {
     "data": {
      "text/plain": [
       "(tensor([[[ 0,  1,  2,  3],\n",
       "          [ 4,  5,  6,  7],\n",
       "          [ 8,  9, 10, 11]],\n",
       " \n",
       "         [[12, 13, 14, 15],\n",
       "          [16, 17, 18, 19],\n",
       "          [20, 21, 22, 23]]]),\n",
       " tensor([[12, 14, 16, 18],\n",
       "         [20, 22, 24, 26],\n",
       "         [28, 30, 32, 34]]),\n",
       " torch.Size([3, 4]),\n",
       " tensor([[12, 15, 18, 21],\n",
       "         [48, 51, 54, 57]]),\n",
       " torch.Size([2, 4]))"
      ]
     },
     "execution_count": 65,
     "metadata": {},
     "output_type": "execute_result"
    }
   ],
   "source": [
    "x = torch.arange(24).reshape(2, 3, 4) # 3-dim tensor\n",
    "y = x.sum(axis=0) # sum over the first dimension, reduce the first dimension\n",
    "z = x.sum(axis=1) # sum over the second dimension, reduce the second dimension\n",
    "x, y, y.shape, z, z.shape"
   ]
  },
  {
   "cell_type": "code",
   "execution_count": 67,
   "id": "ca5c7431",
   "metadata": {},
   "outputs": [
    {
     "name": "stdout",
     "output_type": "stream",
     "text": [
      "======================================================================\n",
      "🔍 UNDERSTANDING HOW reshape(2, 3, 4) FILLS THE TENSOR\n",
      "======================================================================\n",
      "Original 1D tensor: tensor([ 0,  1,  2,  3,  4,  5,  6,  7,  8,  9, 10, 11, 12, 13, 14, 15, 16, 17,\n",
      "        18, 19, 20, 21, 22, 23])\n",
      "Shape: torch.Size([24])\n",
      "\n",
      "Reshaped to (2, 3, 4):\n",
      "tensor([[[ 0,  1,  2,  3],\n",
      "         [ 4,  5,  6,  7],\n",
      "         [ 8,  9, 10, 11]],\n",
      "\n",
      "        [[12, 13, 14, 15],\n",
      "         [16, 17, 18, 19],\n",
      "         [20, 21, 22, 23]]])\n",
      "\n",
      "==================================================\n",
      "🎯 THE FILLING PATTERN: 'ROW-MAJOR' ORDER\n",
      "==================================================\n",
      "\n",
      "📝 Step-by-step filling process:\n",
      "1️⃣ Fill the LAST dimension (rightmost) first\n",
      "2️⃣ When last dimension is full, move to next row\n",
      "3️⃣ When all rows in a 'page' are full, move to next 'page'\n",
      "\n",
      "🏗️ Think of it as filling a bookshelf:\n",
      "   Dimension 0 (2): Number of shelves\n",
      "   Dimension 1 (3): Number of rows per shelf\n",
      "   Dimension 2 (4): Number of books per row\n",
      "\n",
      "📖 Filling order visualization:\n",
      "   Shelf 0, Row 0: [0, 1, 2, 3]     ← Fill row left-to-right\n",
      "   Shelf 0, Row 1: [4, 5, 6, 7]     ← Then next row\n",
      "   Shelf 0, Row 2: [8, 9, 10, 11]   ← Then next row\n",
      "   Shelf 1, Row 0: [12, 13, 14, 15] ← Then next shelf, first row\n",
      "   Shelf 1, Row 1: [16, 17, 18, 19] ← Continue...\n",
      "   Shelf 1, Row 2: [20, 21, 22, 23] ← Until done\n"
     ]
    }
   ],
   "source": [
    "# 📚 HOW RESHAPE FILLS DIMENSIONS: \"ROW-MAJOR\" ORDER\n",
    "print(\"=\"*70)\n",
    "print(\"🔍 UNDERSTANDING HOW reshape(2, 3, 4) FILLS THE TENSOR\")\n",
    "print(\"=\"*70)\n",
    "\n",
    "# Start with the original 1D array\n",
    "original = torch.arange(24)\n",
    "print(f\"Original 1D tensor: {original}\")\n",
    "print(f\"Shape: {original.shape}\")\n",
    "\n",
    "# Reshape to 3D\n",
    "tensor_3d = original.reshape(2, 3, 4)\n",
    "print(f\"\\nReshaped to (2, 3, 4):\")\n",
    "print(tensor_3d)\n",
    "\n",
    "print(\"\\n\" + \"=\"*50)\n",
    "print(\"🎯 THE FILLING PATTERN: 'ROW-MAJOR' ORDER\")\n",
    "print(\"=\"*50)\n",
    "\n",
    "print(\"\\n📝 Step-by-step filling process:\")\n",
    "print(\"1️⃣ Fill the LAST dimension (rightmost) first\")\n",
    "print(\"2️⃣ When last dimension is full, move to next row\")  \n",
    "print(\"3️⃣ When all rows in a 'page' are full, move to next 'page'\")\n",
    "\n",
    "print(\"\\n🏗️ Think of it as filling a bookshelf:\")\n",
    "print(\"   Dimension 0 (2): Number of shelves\")\n",
    "print(\"   Dimension 1 (3): Number of rows per shelf\") \n",
    "print(\"   Dimension 2 (4): Number of books per row\")\n",
    "\n",
    "print(\"\\n📖 Filling order visualization:\")\n",
    "print(\"   Shelf 0, Row 0: [0, 1, 2, 3]     ← Fill row left-to-right\")\n",
    "print(\"   Shelf 0, Row 1: [4, 5, 6, 7]     ← Then next row\")  \n",
    "print(\"   Shelf 0, Row 2: [8, 9, 10, 11]   ← Then next row\")\n",
    "print(\"   Shelf 1, Row 0: [12, 13, 14, 15] ← Then next shelf, first row\")\n",
    "print(\"   Shelf 1, Row 1: [16, 17, 18, 19] ← Continue...\")\n",
    "print(\"   Shelf 1, Row 2: [20, 21, 22, 23] ← Until done\")"
   ]
  },
  {
   "cell_type": "code",
   "execution_count": 69,
   "id": "5bc81ded",
   "metadata": {},
   "outputs": [
    {
     "name": "stdout",
     "output_type": "stream",
     "text": [
      "\n",
      "==================================================\n",
      "🎯 ACCESSING ELEMENTS BY INDEX\n",
      "==================================================\n",
      "For tensor with shape (2, 3, 4):\n",
      "Index format: [dimension_0, dimension_1, dimension_2]\n",
      "\n",
      "tensor_3d[0, 0, 0] = 0 (first shelf, first row, first book)\n",
      "tensor_3d[0, 0, 3] = 3 (first shelf, first row, last book)\n",
      "tensor_3d[0, 1, 0] = 4 (first shelf, second row, first book)\n",
      "tensor_3d[1, 0, 0] = 12 (second shelf, first row, first book)\n",
      "tensor_3d[1, 2, 3] = 23 (last shelf, last row, last book)\n",
      "\n",
      "🔑 KEY RULE:\n",
      "PyTorch uses 'C-style' or 'row-major' ordering\n",
      "• Rightmost index changes fastest\n",
      "• Fill from right to left in index space\n",
      "• Same as NumPy's default behavior\n",
      "\n",
      "💡 Memory trick:\n",
      "Think like reading a book:\n",
      "1. Read words left-to-right (last dimension)\n",
      "2. Then move to next line (second dimension)\n",
      "3. Then turn the page (first dimension)\n"
     ]
    }
   ],
   "source": [
    "print(\"\\n\" + \"=\"*50)\n",
    "print(\"🎯 ACCESSING ELEMENTS BY INDEX\")\n",
    "print(\"=\"*50)\n",
    "\n",
    "tensor_3d = torch.arange(24).reshape(2, 3, 4)\n",
    "\n",
    "print(\"For tensor with shape (2, 3, 4):\")\n",
    "print(\"Index format: [dimension_0, dimension_1, dimension_2]\")\n",
    "\n",
    "print(f\"\\ntensor_3d[0, 0, 0] = {tensor_3d[0, 0, 0]} (first shelf, first row, first book)\")\n",
    "print(f\"tensor_3d[0, 0, 3] = {tensor_3d[0, 0, 3]} (first shelf, first row, last book)\")\n",
    "print(f\"tensor_3d[0, 1, 0] = {tensor_3d[0, 1, 0]} (first shelf, second row, first book)\")\n",
    "print(f\"tensor_3d[1, 0, 0] = {tensor_3d[1, 0, 0]} (second shelf, first row, first book)\")\n",
    "print(f\"tensor_3d[1, 2, 3] = {tensor_3d[1, 2, 3]} (last shelf, last row, last book)\")\n",
    "\n",
    "print(\"\\n🔑 KEY RULE:\")\n",
    "print(\"PyTorch uses 'C-style' or 'row-major' ordering\")\n",
    "print(\"• Rightmost index changes fastest\")\n",
    "print(\"• Fill from right to left in index space\")\n",
    "print(\"• Same as NumPy's default behavior\")\n",
    "\n",
    "print(\"\\n💡 Memory trick:\")\n",
    "print(\"Think like reading a book:\")\n",
    "print(\"1. Read words left-to-right (last dimension)\")\n",
    "print(\"2. Then move to next line (second dimension)\")\n",
    "print(\"3. Then turn the page (first dimension)\")"
   ]
  },
  {
   "cell_type": "code",
   "execution_count": 71,
   "id": "ff7437c7",
   "metadata": {},
   "outputs": [
    {
     "data": {
      "text/plain": [
       "(tensor([[[ 0.,  1.],\n",
       "          [ 2.,  3.],\n",
       "          [ 4.,  5.]],\n",
       " \n",
       "         [[ 6.,  7.],\n",
       "          [ 8.,  9.],\n",
       "          [10., 11.]]]),\n",
       " tensor([30., 36.]))"
      ]
     },
     "execution_count": 71,
     "metadata": {},
     "output_type": "execute_result"
    }
   ],
   "source": [
    "# A = torch.arange(6, dtype=torch.float32).reshape(2, 3)\n",
    "A= torch.arange(12, dtype=torch.float32).reshape(2, 3, 2)\n",
    "A, A.sum(axis=[0, 1])  # Reducing a matrix along both rows and columns via summation\n"
   ]
  },
  {
   "cell_type": "code",
   "execution_count": 72,
   "id": "bed418ac",
   "metadata": {},
   "outputs": [
    {
     "name": "stdout",
     "output_type": "stream",
     "text": [
      "======================================================================\n",
      "🔍 STEP-BY-STEP CALCULATION OF sum(axis=[0, 1])\n",
      "======================================================================\n",
      "Original tensor A with shape (2, 3, 2):\n",
      "tensor([[[ 0.,  1.],\n",
      "         [ 2.,  3.],\n",
      "         [ 4.,  5.]],\n",
      "\n",
      "        [[ 6.,  7.],\n",
      "         [ 8.,  9.],\n",
      "         [10., 11.]]])\n",
      "Shape: torch.Size([2, 3, 2])\n",
      "\n",
      "==================================================\n",
      "🎯 UNDERSTANDING axis=[0, 1]\n",
      "==================================================\n",
      "axis=[0, 1] means:\n",
      "• Sum across dimension 0 (first dimension)\n",
      "• AND dimension 1 (second dimension)\n",
      "• This collapses BOTH dimensions 0 and 1\n",
      "• Only dimension 2 remains!\n",
      "\n",
      "Result shape: torch.Size([2, 3, 2]) → torch.Size([2])\n",
      "From (2, 3, 2) → (2,) because we collapsed dimensions 0 and 1\n",
      "\n",
      "==================================================\n",
      "🧮 MANUAL CALCULATION:\n",
      "==================================================\n",
      "Let's visualize the tensor as two 3×2 matrices:\n",
      "\n",
      "Matrix 0 (A[0,:,:]):\n",
      "tensor([[0., 1.],\n",
      "        [2., 3.],\n",
      "        [4., 5.]])\n",
      "\n",
      "Matrix 1 (A[1,:,:]):\n",
      "tensor([[ 6.,  7.],\n",
      "        [ 8.,  9.],\n",
      "        [10., 11.]])\n",
      "\n",
      "To sum across axis=[0, 1], we add ALL elements in the same column position:\n",
      "\n",
      "For position [:, :, 0] (first column of each matrix):\n",
      "Elements: 0, 2, 4, 6, 8, 10\n",
      "Sum: 0 + 2 + 4 + 6 + 8 + 10 = 30.0\n",
      "\n",
      "For position [:, :, 1] (second column of each matrix):\n",
      "Elements: 1, 3, 5, 7, 9, 11\n",
      "Sum: 1 + 3 + 5 + 7 + 9 + 11 = 36.0\n",
      "\n",
      "Final result: [30.0, 36.0]\n",
      "Which matches: tensor([30., 36.])\n"
     ]
    }
   ],
   "source": [
    "# 📚 DETAILED BREAKDOWN: A.sum(axis=[0, 1])\n",
    "print(\"=\"*70)\n",
    "print(\"🔍 STEP-BY-STEP CALCULATION OF sum(axis=[0, 1])\")\n",
    "print(\"=\"*70)\n",
    "\n",
    "A = torch.arange(12, dtype=torch.float32).reshape(2, 3, 2)\n",
    "print(\"Original tensor A with shape (2, 3, 2):\")\n",
    "print(A)\n",
    "print(f\"Shape: {A.shape}\")\n",
    "\n",
    "print(\"\\n\" + \"=\"*50)\n",
    "print(\"🎯 UNDERSTANDING axis=[0, 1]\")\n",
    "print(\"=\"*50)\n",
    "\n",
    "print(\"axis=[0, 1] means:\")\n",
    "print(\"• Sum across dimension 0 (first dimension)\")\n",
    "print(\"• AND dimension 1 (second dimension)\")\n",
    "print(\"• This collapses BOTH dimensions 0 and 1\")\n",
    "print(\"• Only dimension 2 remains!\")\n",
    "\n",
    "print(f\"\\nResult shape: {A.shape} → {A.sum(axis=[0, 1]).shape}\")\n",
    "print(\"From (2, 3, 2) → (2,) because we collapsed dimensions 0 and 1\")\n",
    "\n",
    "print(\"\\n\" + \"=\"*50)\n",
    "print(\"🧮 MANUAL CALCULATION:\")\n",
    "print(\"=\"*50)\n",
    "\n",
    "print(\"Let's visualize the tensor as two 3×2 matrices:\")\n",
    "print(\"\\nMatrix 0 (A[0,:,:]):\")\n",
    "print(A[0])\n",
    "print(\"\\nMatrix 1 (A[1,:,:]):\")\n",
    "print(A[1])\n",
    "\n",
    "print(\"\\nTo sum across axis=[0, 1], we add ALL elements in the same column position:\")\n",
    "print(\"\\nFor position [:, :, 0] (first column of each matrix):\")\n",
    "print(\"Elements: 0, 2, 4, 6, 8, 10\")\n",
    "print(f\"Sum: 0 + 2 + 4 + 6 + 8 + 10 = {A[:, :, 0].sum()}\")\n",
    "\n",
    "print(\"\\nFor position [:, :, 1] (second column of each matrix):\")  \n",
    "print(\"Elements: 1, 3, 5, 7, 9, 11\")\n",
    "print(f\"Sum: 1 + 3 + 5 + 7 + 9 + 11 = {A[:, :, 1].sum()}\")\n",
    "\n",
    "print(f\"\\nFinal result: [{A[:, :, 0].sum()}, {A[:, :, 1].sum()}]\")\n",
    "print(f\"Which matches: {A.sum(axis=[0, 1])}\")"
   ]
  },
  {
   "cell_type": "code",
   "execution_count": 85,
   "id": "0d33207b",
   "metadata": {},
   "outputs": [
    {
     "name": "stdout",
     "output_type": "stream",
     "text": [
      "\n",
      "==================================================\n",
      "🔄 COMPARING DIFFERENT AXIS COMBINATIONS\n",
      "==================================================\n",
      "Original shape: torch.Size([2, 3, 2])\n",
      "\n",
      "Different summation options:\n",
      "A.sum(axis=0).shape = torch.Size([3, 2]) ← Sum along axis 0 only\n",
      "A.sum(axis=1).shape = torch.Size([2, 2]) ← Sum along axis 1 only\n",
      "A.sum(axis=2).shape = torch.Size([2, 3]) ← Sum along axis 2 only\n",
      "A.sum(axis=[0,1]).shape = torch.Size([2]) ← Sum along axes 0 AND 1\n",
      "A.sum(axis=[0,2]).shape = torch.Size([3]) ← Sum along axes 0 AND 2\n",
      "A.sum(axis=[1,2]).shape = torch.Size([2]) ← Sum along axes 1 AND 2\n",
      "A.sum().shape = torch.Size([]) ← Sum ALL elements (scalar)\n",
      "\n",
      "🎯 KEY INSIGHT:\n",
      "• Each axis in the list gets COLLAPSED (disappears)\n",
      "• Remaining dimensions keep their original size\n",
      "• Order of axes in the list doesn't matter: [0,1] = [1,0]\n",
      "\n",
      "💡 Memory trick:\n",
      "Think of it as 'Which dimensions do I want to REMOVE?'\n",
      "• axis=[0,1] → Remove dimensions 0 and 1, keep dimension 2\n",
      "• Result has only the dimensions NOT listed in axis\n"
     ]
    }
   ],
   "source": [
    "print(\"\\n\" + \"=\"*50)\n",
    "print(\"🔄 COMPARING DIFFERENT AXIS COMBINATIONS\")\n",
    "print(\"=\"*50)\n",
    "\n",
    "A = torch.arange(12, dtype=torch.float32).reshape(2, 3, 2)\n",
    "\n",
    "print(f\"Original shape: {A.shape}\")\n",
    "print(\"\\nDifferent summation options:\")\n",
    "\n",
    "# Single axis sums\n",
    "print(f\"A.sum(axis=0).shape = {A.sum(axis=0).shape} ← Sum along axis 0 only\")\n",
    "print(f\"A.sum(axis=1).shape = {A.sum(axis=1).shape} ← Sum along axis 1 only\") \n",
    "print(f\"A.sum(axis=2).shape = {A.sum(axis=2).shape} ← Sum along axis 2 only\")\n",
    "\n",
    "# Multi-axis sums\n",
    "print(f\"A.sum(axis=[0,1]).shape = {A.sum(axis=[0,1]).shape} ← Sum along axes 0 AND 1\")\n",
    "print(f\"A.sum(axis=[0,2]).shape = {A.sum(axis=[0,2]).shape} ← Sum along axes 0 AND 2\")\n",
    "print(f\"A.sum(axis=[1,2]).shape = {A.sum(axis=[1,2]).shape} ← Sum along axes 1 AND 2\")\n",
    "\n",
    "# All axes\n",
    "print(f\"A.sum().shape = {A.sum().shape} ← Sum ALL elements (scalar)\")\n",
    "\n",
    "print(\"\\n🎯 KEY INSIGHT:\")\n",
    "print(\"• Each axis in the list gets COLLAPSED (disappears)\")\n",
    "print(\"• Remaining dimensions keep their original size\") \n",
    "print(\"• Order of axes in the list doesn't matter: [0,1] = [1,0]\")\n",
    "\n",
    "print(\"\\n💡 Memory trick:\")\n",
    "print(\"Think of it as 'Which dimensions do I want to REMOVE?'\")\n",
    "print(\"• axis=[0,1] → Remove dimensions 0 and 1, keep dimension 2\")\n",
    "print(\"• Result has only the dimensions NOT listed in axis\")"
   ]
  },
  {
   "cell_type": "code",
   "execution_count": null,
   "id": "f260b295",
   "metadata": {},
   "outputs": [
    {
     "data": {
      "text/plain": [
       "(tensor([0., 1., 2.]), tensor([1., 1., 1.]), tensor(3.), tensor(True))"
      ]
     },
     "execution_count": 76,
     "metadata": {},
     "output_type": "execute_result"
    }
   ],
   "source": [
    "x = torch.arange(3, dtype=torch.float32)\n",
    "y = torch.ones(3, dtype = torch.float32)\n",
    "z = torch.dot(x, y) # dot product of two vectors, or x @ y; can be used as weighted average\n",
    "x, y, z, z == (x * y).sum()"
   ]
  },
  {
   "cell_type": "code",
   "execution_count": null,
   "id": "80e16d88",
   "metadata": {},
   "outputs": [
    {
     "data": {
      "text/plain": [
       "(tensor([[0., 1., 2.],\n",
       "         [3., 4., 5.]]),\n",
       " tensor([0., 1., 2.]),\n",
       " tensor([ 5., 14.]),\n",
       " tensor([ 5., 14.]))"
      ]
     },
     "execution_count": 78,
     "metadata": {},
     "output_type": "execute_result"
    }
   ],
   "source": [
    "A = torch.arange(6, dtype=torch.float32).reshape(2, 3)\n",
    "x = torch.arange(3, dtype=torch.float32)\n",
    "A, x, torch.mv(A, x), A@x # matrix-vector multiplication"
   ]
  },
  {
   "cell_type": "code",
   "execution_count": 79,
   "id": "23b8d95a",
   "metadata": {},
   "outputs": [
    {
     "data": {
      "text/plain": [
       "(tensor([[ 3.,  3.,  3.,  3.],\n",
       "         [12., 12., 12., 12.]]),\n",
       " tensor([[ 3.,  3.,  3.,  3.],\n",
       "         [12., 12., 12., 12.]]))"
      ]
     },
     "execution_count": 79,
     "metadata": {},
     "output_type": "execute_result"
    }
   ],
   "source": [
    "A = torch.arange(6, dtype=torch.float32).reshape(2, 3)\n",
    "B = torch.ones(3, 4)\n",
    "torch.mm(A, B), A@B # matrix-matrix multiplication"
   ]
  },
  {
   "cell_type": "code",
   "execution_count": 82,
   "id": "25b683f8",
   "metadata": {},
   "outputs": [
    {
     "data": {
      "text/plain": [
       "(tensor(5.), tensor(7.))"
      ]
     },
     "execution_count": 82,
     "metadata": {},
     "output_type": "execute_result"
    }
   ],
   "source": [
    "u = torch.tensor([3.0, -4.0])\n",
    "x1= torch.norm(u) # L2 norm (Euclidean norm) by default\n",
    "x2 = torch.abs(u).sum() # L1 norm (Manhattan norm)\n",
    "x1, x2"
   ]
  },
  {
   "cell_type": "markdown",
   "id": "0d238cf2",
   "metadata": {},
   "source": [
    "### =======================calculus.md===================================="
   ]
  },
  {
   "cell_type": "markdown",
   "id": "598dab87",
   "metadata": {},
   "source": [
    "### =======================autograd.md===================================="
   ]
  },
  {
   "cell_type": "code",
   "execution_count": 115,
   "id": "029c7e96",
   "metadata": {},
   "outputs": [],
   "source": [
    "x = torch.arange(4.0)\n",
    "\n",
    "x.requires_grad_(True)\n",
    "x.grad # The gradient is None by default"
   ]
  },
  {
   "cell_type": "code",
   "execution_count": 116,
   "id": "b33aa223",
   "metadata": {},
   "outputs": [
    {
     "data": {
      "text/plain": [
       "tensor(28., grad_fn=<MulBackward0>)"
      ]
     },
     "execution_count": 116,
     "metadata": {},
     "output_type": "execute_result"
    }
   ],
   "source": [
    "y = 2 * torch.dot(x, x)\n",
    "y"
   ]
  },
  {
   "cell_type": "code",
   "execution_count": 117,
   "id": "c0095139",
   "metadata": {},
   "outputs": [
    {
     "data": {
      "text/plain": [
       "tensor([ 0.,  4.,  8., 12.])"
      ]
     },
     "execution_count": 117,
     "metadata": {},
     "output_type": "execute_result"
    }
   ],
   "source": [
    "y.backward()\n",
    "x.grad"
   ]
  },
  {
   "cell_type": "code",
   "execution_count": 118,
   "id": "29355068",
   "metadata": {},
   "outputs": [
    {
     "data": {
      "text/plain": [
       "tensor([1., 1., 1., 1.])"
      ]
     },
     "execution_count": 118,
     "metadata": {},
     "output_type": "execute_result"
    }
   ],
   "source": [
    "x.grad.zero_()  # Reset the gradient\n",
    "y = x.sum()\n",
    "y.backward()\n",
    "x.grad"
   ]
  },
  {
   "cell_type": "code",
   "execution_count": 119,
   "id": "42a6e1b9",
   "metadata": {},
   "outputs": [
    {
     "data": {
      "text/plain": [
       "tensor([0., 2., 4., 6.])"
      ]
     },
     "execution_count": 119,
     "metadata": {},
     "output_type": "execute_result"
    }
   ],
   "source": [
    "# Backward for Non-Scalar Variables\n",
    "x.grad.zero_()\n",
    "y = x * x\n",
    "y.backward(gradient=torch.ones(len(y)))  # Faster: y.sum().backward();  sum up the gradients of each component of y with respect to the full vector x,\n",
    "x.grad"
   ]
  },
  {
   "cell_type": "code",
   "execution_count": 120,
   "id": "a5fdfbc3",
   "metadata": {},
   "outputs": [
    {
     "data": {
      "text/plain": [
       "tensor([True, True, True, True])"
      ]
     },
     "execution_count": 120,
     "metadata": {},
     "output_type": "execute_result"
    }
   ],
   "source": [
    "# Detaching Computation\n",
    "\n",
    "x.grad.zero_()\n",
    "y = x * x\n",
    "u = y.detach() # detach() creates a new tensor with the same data as y, but removes it from the gradient computation graph\n",
    "z = u * x\n",
    "\n",
    "z.sum().backward()\n",
    "x.grad == u"
   ]
  },
  {
   "cell_type": "code",
   "execution_count": 121,
   "id": "ea883afe",
   "metadata": {},
   "outputs": [
    {
     "data": {
      "text/plain": [
       "tensor([True, True, True, True])"
      ]
     },
     "execution_count": 121,
     "metadata": {},
     "output_type": "execute_result"
    }
   ],
   "source": [
    "x.grad.zero_()\n",
    "y.sum().backward()\n",
    "x.grad == 2 * x"
   ]
  },
  {
   "cell_type": "code",
   "execution_count": 110,
   "id": "a146b097",
   "metadata": {},
   "outputs": [
    {
     "name": "stdout",
     "output_type": "stream",
     "text": [
      "======================================================================\n",
      "🔍 WHAT DOES y.detach() MEAN?\n",
      "======================================================================\n",
      "x = tensor([0., 1., 2., 3.], requires_grad=True)\n",
      "x.requires_grad = True\n",
      "\n",
      "y = x * x = tensor([0., 1., 4., 9.], grad_fn=<MulBackward0>)\n",
      "y.requires_grad = True\n",
      "\n",
      "u = y.detach() = tensor([0., 1., 4., 9.])\n",
      "u.requires_grad = False\n",
      "\n",
      "==================================================\n",
      "🎯 KEY CONCEPTS:\n",
      "==================================================\n",
      "1️⃣ COMPUTATIONAL GRAPH:\n",
      "   • PyTorch builds a graph: x → y = x² → z = u * x\n",
      "   • Each operation tracks gradients for backpropagation\n",
      "\n",
      "2️⃣ WHAT .detach() DOES:\n",
      "   • Creates a NEW tensor with SAME DATA as y\n",
      "   • Removes the tensor from the computation graph\n",
      "   • Sets requires_grad = False\n",
      "   • u and y share the same data, but u has no gradient history\n",
      "\n",
      "3️⃣ WHY USE .detach():\n",
      "   • Stop gradient flow at a specific point\n",
      "   • Treat intermediate results as constants\n",
      "   • Prevent certain operations from affecting gradients\n",
      "\n",
      "4️⃣ THE RESULT:\n",
      "   • u is treated as a CONSTANT during backpropagation\n",
      "   • When we compute z = u * x, gradients flow only through x\n",
      "   • The gradient path x → y is 'broken' at u\n"
     ]
    }
   ],
   "source": [
    "# 📚 UNDERSTANDING .detach(): \"BREAKING THE COMPUTATION GRAPH\"\n",
    "print(\"=\"*70)\n",
    "print(\"🔍 WHAT DOES y.detach() MEAN?\")\n",
    "print(\"=\"*70)\n",
    "\n",
    "# Let's create a step-by-step example\n",
    "x = torch.arange(4.0, requires_grad=True)\n",
    "print(f\"x = {x}\")\n",
    "print(f\"x.requires_grad = {x.requires_grad}\")\n",
    "\n",
    "y = x * x  # y = x²\n",
    "print(f\"\\ny = x * x = {y}\")\n",
    "print(f\"y.requires_grad = {y.requires_grad}\")\n",
    "\n",
    "# Now detach y\n",
    "u = y.detach()\n",
    "print(f\"\\nu = y.detach() = {u}\")\n",
    "print(f\"u.requires_grad = {u.requires_grad}\")\n",
    "\n",
    "print(\"\\n\" + \"=\"*50)\n",
    "print(\"🎯 KEY CONCEPTS:\")\n",
    "print(\"=\"*50)\n",
    "\n",
    "print(\"1️⃣ COMPUTATIONAL GRAPH:\")\n",
    "print(\"   • PyTorch builds a graph: x → y = x² → z = u * x\")\n",
    "print(\"   • Each operation tracks gradients for backpropagation\")\n",
    "\n",
    "print(\"\\n2️⃣ WHAT .detach() DOES:\")\n",
    "print(\"   • Creates a NEW tensor with SAME DATA as y\")\n",
    "print(\"   • Removes the tensor from the computation graph\")\n",
    "print(\"   • Sets requires_grad = False\")\n",
    "print(\"   • u and y share the same data, but u has no gradient history\")\n",
    "\n",
    "print(\"\\n3️⃣ WHY USE .detach():\")\n",
    "print(\"   • Stop gradient flow at a specific point\")\n",
    "print(\"   • Treat intermediate results as constants\")\n",
    "print(\"   • Prevent certain operations from affecting gradients\")\n",
    "\n",
    "print(\"\\n4️⃣ THE RESULT:\")\n",
    "print(\"   • u is treated as a CONSTANT during backpropagation\")\n",
    "print(\"   • When we compute z = u * x, gradients flow only through x\")\n",
    "print(\"   • The gradient path x → y is 'broken' at u\")"
   ]
  },
  {
   "cell_type": "code",
   "execution_count": 111,
   "id": "3753ebcd",
   "metadata": {},
   "outputs": [
    {
     "name": "stdout",
     "output_type": "stream",
     "text": [
      "\n",
      "============================================================\n",
      "🔬 COMPARISON: WITH vs WITHOUT .detach()\n",
      "============================================================\n",
      "WITHOUT .detach():\n",
      "x1 = tensor([0., 1., 2., 3.])\n",
      "y1 = x1² = tensor([0., 1., 4., 9.])\n",
      "z1 = y1 * x1 = x1³ = tensor([ 0.,  1.,  8., 27.])\n",
      "x1.grad = tensor([ 0.,  3., 12., 27.])\n",
      "Gradient computation: dz/dx = d(x³)/dx = 3x² = 3 * [0, 1, 4, 9]\n",
      "\n",
      "----------------------------------------\n",
      "WITH .detach():\n",
      "x2 = tensor([0., 1., 2., 3.])\n",
      "y2 = x2² = tensor([0., 1., 4., 9.])\n",
      "u2 = y2.detach() = tensor([0., 1., 4., 9.]) (same values, no gradients)\n",
      "z2 = u2 * x2 = tensor([ 0.,  1.,  8., 27.])\n",
      "x2.grad = tensor([0., 1., 4., 9.])\n",
      "Gradient computation: dz/dx = d(u*x)/dx = u = [0, 1, 4, 9]\n",
      "Note: u is treated as constant, so gradient is just u\n",
      "\n",
      "🎯 THE DIFFERENCE:\n",
      "• Without detach: x.grad = 3x² (derivative of x³)\n",
      "• With detach:    x.grad = u = x² (u treated as constant)\n",
      "• detach() 'freezes' the values but stops gradient flow\n"
     ]
    }
   ],
   "source": [
    "print(\"\\n\" + \"=\"*60)\n",
    "print(\"🔬 COMPARISON: WITH vs WITHOUT .detach()\")\n",
    "print(\"=\"*60)\n",
    "\n",
    "# Example 1: WITHOUT detach (normal gradient flow)\n",
    "x1 = torch.arange(4.0, requires_grad=True)\n",
    "y1 = x1 * x1\n",
    "z1 = y1 * x1  # z = y * x = x² * x = x³\n",
    "\n",
    "x1.grad = None  # Clear previous gradients\n",
    "z1.sum().backward()\n",
    "print(\"WITHOUT .detach():\")\n",
    "print(f\"x1 = {x1.data}\")\n",
    "print(f\"y1 = x1² = {y1.data}\")\n",
    "print(f\"z1 = y1 * x1 = x1³ = {z1.data}\")\n",
    "print(f\"x1.grad = {x1.grad}\")\n",
    "print(\"Gradient computation: dz/dx = d(x³)/dx = 3x² = 3 * [0, 1, 4, 9]\")\n",
    "\n",
    "print(\"\\n\" + \"-\"*40)\n",
    "\n",
    "# Example 2: WITH detach (broken gradient flow)\n",
    "x2 = torch.arange(4.0, requires_grad=True)\n",
    "y2 = x2 * x2\n",
    "u2 = y2.detach()  # Detach here!\n",
    "z2 = u2 * x2      # z = u * x (u is treated as constant)\n",
    "\n",
    "x2.grad = None  # Clear previous gradients\n",
    "z2.sum().backward()\n",
    "print(\"WITH .detach():\")\n",
    "print(f\"x2 = {x2.data}\")\n",
    "print(f\"y2 = x2² = {y2.data}\")\n",
    "print(f\"u2 = y2.detach() = {u2.data} (same values, no gradients)\")\n",
    "print(f\"z2 = u2 * x2 = {z2.data}\")\n",
    "print(f\"x2.grad = {x2.grad}\")\n",
    "print(\"Gradient computation: dz/dx = d(u*x)/dx = u = [0, 1, 4, 9]\")\n",
    "print(\"Note: u is treated as constant, so gradient is just u\")\n",
    "\n",
    "print(\"\\n🎯 THE DIFFERENCE:\")\n",
    "print(\"• Without detach: x.grad = 3x² (derivative of x³)\")\n",
    "print(\"• With detach:    x.grad = u = x² (u treated as constant)\")\n",
    "print(\"• detach() 'freezes' the values but stops gradient flow\")"
   ]
  },
  {
   "cell_type": "code",
   "execution_count": null,
   "id": "8c14959f",
   "metadata": {},
   "outputs": [
    {
     "data": {
      "text/plain": [
       "tensor(True)"
      ]
     },
     "execution_count": 124,
     "metadata": {},
     "output_type": "execute_result"
    }
   ],
   "source": [
    "# One benefit of using automatic differentiation is that even if building the computational graph of (a function required passing through a maze of \n",
    "# Python control flow) (e.g., conditionals, loops, and arbitrary function calls), (we can still calculate the gradient of the resulting variable.)\n",
    "\n",
    "def f(a):\n",
    "    b = a * 2\n",
    "    while b.norm() < 1000:\n",
    "        b = b * 2\n",
    "    if b.sum() > 0:\n",
    "        c = b\n",
    "    else:\n",
    "        c = 100 * b\n",
    "    return c\n",
    "\n",
    "a = torch.randn(size=(), requires_grad=True)\n",
    "d = f(a)\n",
    "d.backward()\n",
    "\n",
    "a.grad == d / a\n"
   ]
  },
  {
   "cell_type": "markdown",
   "id": "c28b6719",
   "metadata": {},
   "source": [
    "### =======================probability.md===================================="
   ]
  },
  {
   "cell_type": "code",
   "execution_count": 138,
   "id": "7d79f6bb",
   "metadata": {},
   "outputs": [
    {
     "name": "stdout",
     "output_type": "stream",
     "text": [
      "Requirement already satisfied: pip in c:\\users\\huiya\\appdata\\local\\programs\\python\\python313\\lib\\site-packages (25.2)\n",
      "Requirement already satisfied: setuptools in c:\\users\\huiya\\appdata\\roaming\\python\\python313\\site-packages (80.9.0)\n",
      "Collecting wheel\n",
      "  Downloading wheel-0.45.1-py3-none-any.whl.metadata (2.3 kB)\n",
      "Downloading wheel-0.45.1-py3-none-any.whl (72 kB)\n",
      "Installing collected packages: wheel\n",
      "Successfully installed wheel-0.45.1\n",
      "Note: you may need to restart the kernel to use updated packages.\n"
     ]
    },
    {
     "name": "stderr",
     "output_type": "stream",
     "text": [
      "  WARNING: The script wheel.exe is installed in 'c:\\Users\\huiya\\AppData\\Local\\Programs\\Python\\Python313\\Scripts' which is not on PATH.\n",
      "  Consider adding this directory to PATH or, if you prefer to suppress this warning, use --no-warn-script-location.\n"
     ]
    },
    {
     "name": "stdout",
     "output_type": "stream",
     "text": [
      "Collecting d2l\n",
      "  Using cached d2l-1.0.3-py3-none-any.whl.metadata (556 bytes)\n",
      "Collecting jupyter==1.0.0 (from d2l)\n",
      "  Using cached jupyter-1.0.0-py2.py3-none-any.whl.metadata (995 bytes)\n",
      "Collecting numpy==1.23.5 (from d2l)\n",
      "  Using cached numpy-1.23.5.tar.gz (10.7 MB)\n",
      "  Preparing metadata (pyproject.toml): started\n",
      "  Preparing metadata (pyproject.toml): finished with status 'error'\n",
      "Note: you may need to restart the kernel to use updated packages.\n"
     ]
    },
    {
     "name": "stderr",
     "output_type": "stream",
     "text": [
      "  error: subprocess-exited-with-error\n",
      "  \n",
      "  × Preparing metadata (pyproject.toml) did not run successfully.\n",
      "  │ exit code: 1\n",
      "  ╰─> [40 lines of output]\n",
      "      <string>:71: RuntimeWarning: NumPy 1.23.5 may not yet support Python 3.13.\n",
      "      Running from numpy source directory.\n",
      "      <string>:86: DeprecationWarning:\n",
      "      \n",
      "        `numpy.distutils` is deprecated since NumPy 1.23.0, as a result\n",
      "        of the deprecation of `distutils` itself. It will be removed for\n",
      "        Python >= 3.12. For older Python versions it will remain present.\n",
      "        It is recommended to use `setuptools < 60.0` for those Python versions.\n",
      "        For more details, see:\n",
      "          https://numpy.org/devdocs/reference/distutils_status_migration.html\n",
      "      \n",
      "      \n",
      "      Traceback (most recent call last):\n",
      "        File \u001b[35m\"c:\\Users\\huiya\\AppData\\Local\\Programs\\Python\\Python313\\Lib\\site-packages\\pip\\_vendor\\pyproject_hooks\\_in_process\\_in_process.py\"\u001b[0m, line \u001b[35m389\u001b[0m, in \u001b[35m<module>\u001b[0m\n",
      "          \u001b[31mmain\u001b[0m\u001b[1;31m()\u001b[0m\n",
      "          \u001b[31m~~~~\u001b[0m\u001b[1;31m^^\u001b[0m\n",
      "        File \u001b[35m\"c:\\Users\\huiya\\AppData\\Local\\Programs\\Python\\Python313\\Lib\\site-packages\\pip\\_vendor\\pyproject_hooks\\_in_process\\_in_process.py\"\u001b[0m, line \u001b[35m373\u001b[0m, in \u001b[35mmain\u001b[0m\n",
      "          json_out[\"return_val\"] = \u001b[31mhook\u001b[0m\u001b[1;31m(**hook_input[\"kwargs\"])\u001b[0m\n",
      "                                   \u001b[31m~~~~\u001b[0m\u001b[1;31m^^^^^^^^^^^^^^^^^^^^^^^^\u001b[0m\n",
      "        File \u001b[35m\"c:\\Users\\huiya\\AppData\\Local\\Programs\\Python\\Python313\\Lib\\site-packages\\pip\\_vendor\\pyproject_hooks\\_in_process\\_in_process.py\"\u001b[0m, line \u001b[35m175\u001b[0m, in \u001b[35mprepare_metadata_for_build_wheel\u001b[0m\n",
      "          return hook(metadata_directory, config_settings)\n",
      "        File \u001b[35m\"C:\\Users\\huiya\\AppData\\Roaming\\Python\\Python313\\site-packages\\setuptools\\build_meta.py\"\u001b[0m, line \u001b[35m374\u001b[0m, in \u001b[35mprepare_metadata_for_build_wheel\u001b[0m\n",
      "          \u001b[31mself.run_setup\u001b[0m\u001b[1;31m()\u001b[0m\n",
      "          \u001b[31m~~~~~~~~~~~~~~\u001b[0m\u001b[1;31m^^\u001b[0m\n",
      "        File \u001b[35m\"C:\\Users\\huiya\\AppData\\Roaming\\Python\\Python313\\site-packages\\setuptools\\build_meta.py\"\u001b[0m, line \u001b[35m512\u001b[0m, in \u001b[35mrun_setup\u001b[0m\n",
      "          \u001b[31msuper().run_setup\u001b[0m\u001b[1;31m(setup_script=setup_script)\u001b[0m\n",
      "          \u001b[31m~~~~~~~~~~~~~~~~~\u001b[0m\u001b[1;31m^^^^^^^^^^^^^^^^^^^^^^^^^^^\u001b[0m\n",
      "        File \u001b[35m\"C:\\Users\\huiya\\AppData\\Roaming\\Python\\Python313\\site-packages\\setuptools\\build_meta.py\"\u001b[0m, line \u001b[35m317\u001b[0m, in \u001b[35mrun_setup\u001b[0m\n",
      "          \u001b[31mexec\u001b[0m\u001b[1;31m(code, locals())\u001b[0m\n",
      "          \u001b[31m~~~~\u001b[0m\u001b[1;31m^^^^^^^^^^^^^^^^\u001b[0m\n",
      "        File \u001b[35m\"<string>\"\u001b[0m, line \u001b[35m101\u001b[0m, in \u001b[35m<module>\u001b[0m\n",
      "        File \u001b[35m\"C:\\Users\\huiya\\AppData\\Local\\Temp\\pip-install-uj9_3zw8\\numpy_cb447ca5de3545c08c9a36c330e3af76\\numpy\\distutils\\core.py\"\u001b[0m, line \u001b[35m24\u001b[0m, in \u001b[35m<module>\u001b[0m\n",
      "          from numpy.distutils.command import config, config_compiler, \\\n",
      "          ...<2 lines>...\n",
      "               install_clib\n",
      "        File \u001b[35m\"C:\\Users\\huiya\\AppData\\Local\\Temp\\pip-install-uj9_3zw8\\numpy_cb447ca5de3545c08c9a36c330e3af76\\numpy\\distutils\\command\\config.py\"\u001b[0m, line \u001b[35m19\u001b[0m, in \u001b[35m<module>\u001b[0m\n",
      "          from numpy.distutils.mingw32ccompiler import generate_manifest\n",
      "        File \u001b[35m\"C:\\Users\\huiya\\AppData\\Local\\Temp\\pip-install-uj9_3zw8\\numpy_cb447ca5de3545c08c9a36c330e3af76\\numpy\\distutils\\mingw32ccompiler.py\"\u001b[0m, line \u001b[35m28\u001b[0m, in \u001b[35m<module>\u001b[0m\n",
      "          from distutils.msvccompiler import get_build_version as get_build_msvc_version\n",
      "      \u001b[1;35mModuleNotFoundError\u001b[0m: \u001b[35mNo module named 'distutils.msvccompiler'\u001b[0m\n",
      "      [end of output]\n",
      "  \n",
      "  note: This error originates from a subprocess, and is likely not a problem with pip.\n",
      "error: metadata-generation-failed\n",
      "\n",
      "× Encountered error while generating package metadata.\n",
      "╰─> See above for output.\n",
      "\n",
      "note: This is an issue with the package mentioned above, not pip.\n",
      "hint: See above for details.\n"
     ]
    }
   ],
   "source": [
    "# Fix setuptools issue and install d2l\n",
    "%pip install --upgrade pip setuptools wheel\n",
    "%pip install d2l --no-build-isolation"
   ]
  },
  {
   "cell_type": "code",
   "execution_count": 143,
   "id": "4b6f3a63",
   "metadata": {},
   "outputs": [
    {
     "name": "stdout",
     "output_type": "stream",
     "text": [
      "⚠️ d2l not available, creating basic d2l functionality...\n",
      "✅ Using simplified d2l replacement\n"
     ]
    }
   ],
   "source": [
    "# Import packages with fallback for d2l\n",
    "import random\n",
    "import torch\n",
    "from torch.distributions.multinomial import Multinomial\n",
    "import matplotlib.pyplot as plt\n",
    "import numpy as np\n",
    "\n",
    "# Try to import d2l with fallback\n",
    "try:\n",
    "    from d2l import torch as d2l\n",
    "    print(\"✅ d2l imported successfully!\")\n",
    "except ImportError:\n",
    "    print(\"⚠️ d2l not available, creating basic d2l functionality...\")\n",
    "    \n",
    "    # Create a minimal d2l replacement for plotting\n",
    "    class SimpleD2L:\n",
    "        plt = plt\n",
    "        \n",
    "        @staticmethod\n",
    "        def set_figsize(figsize):\n",
    "            plt.figure(figsize=figsize)\n",
    "    \n",
    "    d2l = SimpleD2L()\n",
    "    print(\"✅ Using simplified d2l replacement\")"
   ]
  },
  {
   "cell_type": "code",
   "execution_count": 140,
   "id": "aa77e28f",
   "metadata": {},
   "outputs": [
    {
     "name": "stdout",
     "output_type": "stream",
     "text": [
      "heads, tails:  [41, 59]\n"
     ]
    }
   ],
   "source": [
    "num_tosses = 100\n",
    "heads = sum([random.random() > 0.5 for _ in range(num_tosses)])\n",
    "tails = num_tosses - heads\n",
    "print(\"heads, tails: \", [heads, tails])"
   ]
  },
  {
   "cell_type": "code",
   "execution_count": 141,
   "id": "365dee6c",
   "metadata": {},
   "outputs": [
    {
     "data": {
      "text/plain": [
       "tensor([49837., 50163.])"
      ]
     },
     "execution_count": 141,
     "metadata": {},
     "output_type": "execute_result"
    }
   ],
   "source": [
    "fair_probs = torch.tensor([0.5, 0.5])\n",
    "Multinomial(100000, fair_probs).sample()"
   ]
  },
  {
   "cell_type": "code",
   "execution_count": 142,
   "id": "9d9428dd",
   "metadata": {},
   "outputs": [
    {
     "data": {
      "image/png": "[encoded data removed]",
      "text/plain": [
       "<Figure size 450x350 with 1 Axes>"
      ]
     },
     "metadata": {},
     "output_type": "display_data"
    }
   ],
   "source": [
    "counts = Multinomial(1, fair_probs).sample((10000,))\n",
    "cum_counts = counts.cumsum(dim=0)\n",
    "estimates = cum_counts / cum_counts.sum(dim=1, keepdims=True)\n",
    "estimates = estimates.numpy()\n",
    "\n",
    "# Create the probability convergence plot\n",
    "plt.figure(figsize=(4.5, 3.5))\n",
    "plt.plot(estimates[:, 0], label=\"P(coin=heads)\")\n",
    "plt.plot(estimates[:, 1], label=\"P(coin=tails)\")\n",
    "plt.axhline(y=0.5, color='black', linestyle='dashed')\n",
    "plt.xlabel('Samples')\n",
    "plt.ylabel('Estimated probability')\n",
    "plt.legend()\n",
    "plt.grid(True, alpha=0.3)\n",
    "plt.title('Coin Flip Probability Convergence')\n",
    "plt.show()"
   ]
  },
  {
   "cell_type": "code",
   "execution_count": 145,
   "id": "d231e805",
   "metadata": {},
   "outputs": [
    {
     "data": {
      "text/plain": [
       "(torch.Size([10000, 2]), torch.Size([10000, 2]))"
      ]
     },
     "execution_count": 145,
     "metadata": {},
     "output_type": "execute_result"
    }
   ],
   "source": [
    "counts.shape,cum_counts.shape"
   ]
  },
  {
   "cell_type": "code",
   "execution_count": 146,
   "id": "32110ac2",
   "metadata": {},
   "outputs": [
    {
     "name": "stdout",
     "output_type": "stream",
     "text": [
      "================================================================================\n",
      "🎯 COMPARING TWO MULTINOMIAL SAMPLING METHODS\n",
      "================================================================================\n",
      "Method 1: Multinomial(100000, fair_probs).sample()\n",
      "Method 2: Multinomial(1, fair_probs).sample((10000,))\n",
      "\n",
      "============================================================\n",
      "🔍 METHOD 1 ANALYSIS:\n",
      "============================================================\n",
      "Result shape: torch.Size([2])\n",
      "Result values: tensor([49740., 50260.])\n",
      "Sum of results: 100000.0\n",
      "\n",
      "📝 What this means:\n",
      "• Conducts ONE experiment with 100,000 trials\n",
      "• Returns ONE result: [heads_count, tails_count]\n",
      "• Total flips = 100,000 (all at once)\n",
      "• Shape: (2,) - just two numbers\n",
      "\n",
      "============================================================\n",
      "🔍 METHOD 2 ANALYSIS:\n",
      "============================================================\n",
      "Result shape: torch.Size([10000, 2])\n",
      "First 10 results:\n",
      "tensor([[1., 0.],\n",
      "        [0., 1.],\n",
      "        [1., 0.],\n",
      "        [0., 1.],\n",
      "        [1., 0.],\n",
      "        [0., 1.],\n",
      "        [0., 1.],\n",
      "        [1., 0.],\n",
      "        [1., 0.],\n",
      "        [1., 0.]])\n",
      "Sum of all results: tensor([5001., 4999.])\n",
      "\n",
      "📝 What this means:\n",
      "• Conducts 10,000 SEPARATE experiments\n",
      "• Each experiment has only 1 trial\n",
      "• Returns 10,000 results: [[1,0], [0,1], [1,0], ...]\n",
      "• Each row is either [1,0] (heads) or [0,1] (tails)\n",
      "• Shape: (10000, 2) - a matrix of outcomes\n"
     ]
    }
   ],
   "source": [
    "# 📚 UNDERSTANDING THE DIFFERENCE: Two Multinomial Sampling Approaches\n",
    "print(\"=\"*80)\n",
    "print(\"🎯 COMPARING TWO MULTINOMIAL SAMPLING METHODS\")\n",
    "print(\"=\"*80)\n",
    "\n",
    "fair_probs = torch.tensor([0.5, 0.5])\n",
    "\n",
    "print(\"Method 1: Multinomial(100000, fair_probs).sample()\")\n",
    "print(\"Method 2: Multinomial(1, fair_probs).sample((10000,))\")\n",
    "\n",
    "print(\"\\n\" + \"=\"*60)\n",
    "print(\"🔍 METHOD 1 ANALYSIS:\")\n",
    "print(\"=\"*60)\n",
    "\n",
    "method1 = Multinomial(100000, fair_probs).sample()\n",
    "print(f\"Result shape: {method1.shape}\")\n",
    "print(f\"Result values: {method1}\")\n",
    "print(f\"Sum of results: {method1.sum()}\")\n",
    "\n",
    "print(\"\\n📝 What this means:\")\n",
    "print(\"• Conducts ONE experiment with 100,000 trials\")\n",
    "print(\"• Returns ONE result: [heads_count, tails_count]\")\n",
    "print(\"• Total flips = 100,000 (all at once)\")\n",
    "print(\"• Shape: (2,) - just two numbers\")\n",
    "\n",
    "print(\"\\n\" + \"=\"*60)\n",
    "print(\"🔍 METHOD 2 ANALYSIS:\")\n",
    "print(\"=\"*60)\n",
    "\n",
    "method2 = Multinomial(1, fair_probs).sample((10000,))\n",
    "print(f\"Result shape: {method2.shape}\")\n",
    "print(f\"First 10 results:\\n{method2[:10]}\")\n",
    "print(f\"Sum of all results: {method2.sum(dim=0)}\")\n",
    "\n",
    "print(\"\\n📝 What this means:\")\n",
    "print(\"• Conducts 10,000 SEPARATE experiments\")\n",
    "print(\"• Each experiment has only 1 trial\")\n",
    "print(\"• Returns 10,000 results: [[1,0], [0,1], [1,0], ...]\")\n",
    "print(\"• Each row is either [1,0] (heads) or [0,1] (tails)\")\n",
    "print(\"• Shape: (10000, 2) - a matrix of outcomes\")"
   ]
  },
  {
   "cell_type": "code",
   "execution_count": 147,
   "id": "59058d7e",
   "metadata": {},
   "outputs": [
    {
     "name": "stdout",
     "output_type": "stream",
     "text": [
      "\n",
      "============================================================\n",
      "🎯 KEY DIFFERENCES SUMMARY:\n",
      "============================================================\n",
      "\n",
      "1️⃣ EXPERIMENT STRUCTURE:\n",
      "   Method 1: ONE big experiment (100,000 flips)\n",
      "   Method 2: Many small experiments (10,000 × 1 flip each)\n",
      "\n",
      "2️⃣ OUTPUT FORMAT:\n",
      "   Method 1: Single vector [total_heads, total_tails]\n",
      "   Method 2: Matrix where each row is one coin flip result\n",
      "\n",
      "3️⃣ INFORMATION CONTENT:\n",
      "   Method 1: Only final totals (aggregated result)\n",
      "   Method 2: Individual flip results (detailed history)\n",
      "\n",
      "4️⃣ USE CASES:\n",
      "   Method 1: When you only need final statistics\n",
      "   Method 2: When you need to analyze the process over time\n",
      "\n",
      "💡 ANALOGY:\n",
      "Method 1: 'Tell me the final score of 100,000 coin flips'\n",
      "Method 2: 'Give me the result of each individual coin flip (10,000 times)'\n",
      "\n",
      "🔄 RELATIONSHIP:\n",
      "method2.sum(dim=0) ≈ method1 (if same total number of flips)\n",
      "Method 1 total flips: 100000.0\n",
      "Method 2 total flips: 10000.0\n",
      "They're different experiments, so results will vary!\n"
     ]
    }
   ],
   "source": [
    "print(\"\\n\" + \"=\"*60)\n",
    "print(\"🎯 KEY DIFFERENCES SUMMARY:\")\n",
    "print(\"=\"*60)\n",
    "\n",
    "print(\"\\n1️⃣ EXPERIMENT STRUCTURE:\")\n",
    "print(\"   Method 1: ONE big experiment (100,000 flips)\")\n",
    "print(\"   Method 2: Many small experiments (10,000 × 1 flip each)\")\n",
    "\n",
    "print(\"\\n2️⃣ OUTPUT FORMAT:\")\n",
    "print(\"   Method 1: Single vector [total_heads, total_tails]\")\n",
    "print(\"   Method 2: Matrix where each row is one coin flip result\")\n",
    "\n",
    "print(\"\\n3️⃣ INFORMATION CONTENT:\")\n",
    "print(\"   Method 1: Only final totals (aggregated result)\")\n",
    "print(\"   Method 2: Individual flip results (detailed history)\")\n",
    "\n",
    "print(\"\\n4️⃣ USE CASES:\")\n",
    "print(\"   Method 1: When you only need final statistics\")\n",
    "print(\"   Method 2: When you need to analyze the process over time\")\n",
    "\n",
    "print(\"\\n💡 ANALOGY:\")\n",
    "print(\"Method 1: 'Tell me the final score of 100,000 coin flips'\")\n",
    "print(\"Method 2: 'Give me the result of each individual coin flip (10,000 times)'\")\n",
    "\n",
    "print(\"\\n🔄 RELATIONSHIP:\")\n",
    "print(\"method2.sum(dim=0) ≈ method1 (if same total number of flips)\")\n",
    "print(f\"Method 1 total flips: {method1.sum()}\")\n",
    "print(f\"Method 2 total flips: {method2.sum()}\")\n",
    "print(\"They're different experiments, so results will vary!\")"
   ]
  },
  {
   "cell_type": "code",
   "execution_count": 148,
   "id": "0424fd39",
   "metadata": {},
   "outputs": [
    {
     "name": "stdout",
     "output_type": "stream",
     "text": [
      "\n",
      "======================================================================\n",
      "🎯 WHY METHOD 2 IS IDEAL FOR THE CONVERGENCE PLOT\n",
      "======================================================================\n",
      "Method 2 sample shape: torch.Size([1000, 2])\n",
      "First 5 individual flips:\n",
      "tensor([[0., 1.],\n",
      "        [0., 1.],\n",
      "        [1., 0.],\n",
      "        [0., 1.],\n",
      "        [0., 1.]])\n",
      "\n",
      "Cumulative counts shape: torch.Size([1000, 2])\n",
      "Cumulative counts at different points:\n",
      "After 1 flip:   tensor([0., 1.])   (total: 1.0)\n",
      "After 5 flips:  tensor([1., 4.])   (total: 5.0)\n",
      "After 10 flips: tensor([4., 6.])   (total: 10.0)\n",
      "After 50 flips: tensor([24., 26.])  (total: 50.0)\n",
      "\n",
      "Running probability estimates:\n",
      "After 1 flip:   P(heads)=0.000, P(tails)=1.000\n",
      "After 5 flips:  P(heads)=0.200, P(tails)=0.800\n",
      "After 10 flips: P(heads)=0.400, P(tails)=0.600\n",
      "After 50 flips: P(heads)=0.480, P(tails)=0.520\n",
      "\n",
      "🎯 KEY INSIGHT:\n",
      "Method 2 lets us see HOW the probability estimate changes over time!\n",
      "This is exactly what we need to create the convergence plot.\n",
      "Method 1 would only give us the final result - no journey, no convergence story!\n"
     ]
    }
   ],
   "source": [
    "# 🔬 PRACTICAL DEMONSTRATION: Why Method 2 is Perfect for Probability Convergence\n",
    "\n",
    "print(\"\\n\" + \"=\"*70)\n",
    "print(\"🎯 WHY METHOD 2 IS IDEAL FOR THE CONVERGENCE PLOT\")\n",
    "print(\"=\"*70)\n",
    "\n",
    "# Method 2 gives us the sequential history we need\n",
    "method2_sample = Multinomial(1, fair_probs).sample((1000,))  # Smaller sample for clarity\n",
    "print(f\"Method 2 sample shape: {method2_sample.shape}\")\n",
    "print(f\"First 5 individual flips:\\n{method2_sample[:5]}\")\n",
    "\n",
    "# Calculate cumulative counts (running totals)\n",
    "cum_counts_demo = method2_sample.cumsum(dim=0)\n",
    "print(f\"\\nCumulative counts shape: {cum_counts_demo.shape}\")\n",
    "print(f\"Cumulative counts at different points:\")\n",
    "print(f\"After 1 flip:   {cum_counts_demo[0]}   (total: {cum_counts_demo[0].sum()})\")\n",
    "print(f\"After 5 flips:  {cum_counts_demo[4]}   (total: {cum_counts_demo[4].sum()})\")\n",
    "print(f\"After 10 flips: {cum_counts_demo[9]}   (total: {cum_counts_demo[9].sum()})\")\n",
    "print(f\"After 50 flips: {cum_counts_demo[49]}  (total: {cum_counts_demo[49].sum()})\")\n",
    "\n",
    "# Calculate running probability estimates\n",
    "estimates_demo = cum_counts_demo / cum_counts_demo.sum(dim=1, keepdims=True)\n",
    "print(f\"\\nRunning probability estimates:\")\n",
    "print(f\"After 1 flip:   P(heads)={estimates_demo[0,0]:.3f}, P(tails)={estimates_demo[0,1]:.3f}\")\n",
    "print(f\"After 5 flips:  P(heads)={estimates_demo[4,0]:.3f}, P(tails)={estimates_demo[4,1]:.3f}\")\n",
    "print(f\"After 10 flips: P(heads)={estimates_demo[9,0]:.3f}, P(tails)={estimates_demo[9,1]:.3f}\")\n",
    "print(f\"After 50 flips: P(heads)={estimates_demo[49,0]:.3f}, P(tails)={estimates_demo[49,1]:.3f}\")\n",
    "\n",
    "print(f\"\\n🎯 KEY INSIGHT:\")\n",
    "print(\"Method 2 lets us see HOW the probability estimate changes over time!\")\n",
    "print(\"This is exactly what we need to create the convergence plot.\")\n",
    "print(\"Method 1 would only give us the final result - no journey, no convergence story!\")"
   ]
  },
  {
   "cell_type": "code",
   "execution_count": 149,
   "id": "09b1a3ca",
   "metadata": {},
   "outputs": [
    {
     "name": "stdout",
     "output_type": "stream",
     "text": [
      "================================================================================\n",
      "🎯 WHAT IS A COVARIANCE MATRIX?\n",
      "================================================================================\n",
      "🔍 DEFINITION:\n",
      "A covariance matrix measures how different variables change together.\n",
      "• Diagonal elements: Variance of each variable (spread)\n",
      "• Off-diagonal elements: Covariance between pairs of variables (relationship)\n",
      "\n",
      "📊 MATHEMATICAL FORM:\n",
      "For variables X₁, X₂, ..., Xₙ, the covariance matrix C is:\n",
      "    ┌                           ┐\n",
      "    │ Var(X₁)   Cov(X₁,X₂) ... │\n",
      "C = │ Cov(X₂,X₁) Var(X₂)  ... │\n",
      "    │    ...       ...     ... │\n",
      "    └                           ┘\n",
      "\n",
      "💡 KEY INSIGHTS:\n",
      "• Symmetric: C[i,j] = C[j,i]\n",
      "• Diagonal = variance (how much each variable spreads)\n",
      "• Off-diagonal = covariance (how variables move together)\n",
      "\n",
      "============================================================\n",
      "🔬 PRACTICAL EXAMPLE: Height, Weight, and Age Data\n",
      "============================================================\n"
     ]
    }
   ],
   "source": [
    "# 📊 UNDERSTANDING COVARIANCE MATRIX: \"How Variables Dance Together\"\n",
    "print(\"=\"*80)\n",
    "print(\"🎯 WHAT IS A COVARIANCE MATRIX?\")\n",
    "print(\"=\"*80)\n",
    "\n",
    "print(\"🔍 DEFINITION:\")\n",
    "print(\"A covariance matrix measures how different variables change together.\")\n",
    "print(\"• Diagonal elements: Variance of each variable (spread)\")\n",
    "print(\"• Off-diagonal elements: Covariance between pairs of variables (relationship)\")\n",
    "\n",
    "print(\"\\n📊 MATHEMATICAL FORM:\")\n",
    "print(\"For variables X₁, X₂, ..., Xₙ, the covariance matrix C is:\")\n",
    "print(\"    ┌                           ┐\")\n",
    "print(\"    │ Var(X₁)   Cov(X₁,X₂) ... │\")\n",
    "print(\"C = │ Cov(X₂,X₁) Var(X₂)  ... │\")\n",
    "print(\"    │    ...       ...     ... │\")\n",
    "print(\"    └                           ┘\")\n",
    "\n",
    "print(\"\\n💡 KEY INSIGHTS:\")\n",
    "print(\"• Symmetric: C[i,j] = C[j,i]\")\n",
    "print(\"• Diagonal = variance (how much each variable spreads)\")\n",
    "print(\"• Off-diagonal = covariance (how variables move together)\")\n",
    "\n",
    "import torch\n",
    "import numpy as np\n",
    "import matplotlib.pyplot as plt\n",
    "\n",
    "# Create sample data to demonstrate\n",
    "torch.manual_seed(42)  # For reproducible results\n",
    "n_samples = 1000\n",
    "\n",
    "print(\"\\n\" + \"=\"*60)\n",
    "print(\"🔬 PRACTICAL EXAMPLE: Height, Weight, and Age Data\")\n",
    "print(\"=\"*60)"
   ]
  },
  {
   "cell_type": "code",
   "execution_count": 150,
   "id": "f8b28f06",
   "metadata": {},
   "outputs": [
    {
     "name": "stdout",
     "output_type": "stream",
     "text": [
      "Data shape: torch.Size([1000, 3])\n",
      "Variables: [Height(cm), Weight(kg), Age(years)]\n",
      "\n",
      "First 5 samples:\n",
      "Person 1: Height=189.3cm, Weight=208.8kg, Age=43years\n",
      "Person 2: Height=184.9cm, Weight=200.5kg, Age=48years\n",
      "Person 3: Height=179.0cm, Weight=207.9kg, Age=69years\n",
      "Person 4: Height=148.9cm, Weight=115.8kg, Age=42years\n",
      "Person 5: Height=176.8cm, Weight=177.2kg, Age=60years\n",
      "\n",
      "Data statistics:\n",
      "Height - Mean: 170.0, Std: 10.0\n",
      "Weight - Mean: 175.3, Std: 29.5\n",
      "Age    - Mean: 43.0, Std: 15.3\n"
     ]
    }
   ],
   "source": [
    "# Generate correlated data to show relationships\n",
    "# Let's simulate: Height, Weight, Age for 1000 people\n",
    "\n",
    "# Start with independent random variables\n",
    "height_base = torch.randn(n_samples) * 10 + 170  # Average 170cm, std 10cm\n",
    "age = torch.randint(18, 70, (n_samples,)).float()  # Age between 18-70\n",
    "\n",
    "# Make weight correlated with height (taller people tend to be heavier)\n",
    "weight = 2.5 * height_base + torch.randn(n_samples) * 15 + (-250)  # Some correlation + noise\n",
    "\n",
    "# Stack into data matrix (each column is a variable)\n",
    "data = torch.stack([height_base, weight, age], dim=1)\n",
    "print(f\"Data shape: {data.shape}\")\n",
    "print(f\"Variables: [Height(cm), Weight(kg), Age(years)]\")\n",
    "\n",
    "print(f\"\\nFirst 5 samples:\")\n",
    "for i in range(5):\n",
    "    print(f\"Person {i+1}: Height={data[i,0]:.1f}cm, Weight={data[i,1]:.1f}kg, Age={data[i,2]:.0f}years\")\n",
    "\n",
    "print(f\"\\nData statistics:\")\n",
    "print(f\"Height - Mean: {data[:,0].mean():.1f}, Std: {data[:,0].std():.1f}\")\n",
    "print(f\"Weight - Mean: {data[:,1].mean():.1f}, Std: {data[:,1].std():.1f}\")\n",
    "print(f\"Age    - Mean: {data[:,2].mean():.1f}, Std: {data[:,2].std():.1f}\")"
   ]
  },
  {
   "cell_type": "code",
   "execution_count": 152,
   "id": "8628f905",
   "metadata": {},
   "outputs": [
    {
     "name": "stdout",
     "output_type": "stream",
     "text": [
      "\n",
      "============================================================\n",
      "🧮 CALCULATING COVARIANCE MATRIX\n",
      "============================================================\n",
      "📝 METHOD 1: Manual calculation\n",
      "Centered data shape: torch.Size([1000, 3])\n",
      "\n",
      "Covariance Matrix (manual calculation):\n",
      "tensor([[ 1.0069e+02,  2.5523e+02, -4.5648e-01],\n",
      "        [ 2.5523e+02,  8.7283e+02, -3.3532e+00],\n",
      "        [-4.5648e-01, -3.3532e+00,  2.3311e+02]])\n",
      "\n",
      "🔍 INTERPRETING THE MATRIX:\n",
      "[0,0] = Variance of Height = 100.69\n",
      "[1,1] = Variance of Weight = 872.83\n",
      "[2,2] = Variance of Age = 233.11\n",
      "[0,1] = Covariance(Height,Weight) = 255.23\n",
      "[0,2] = Covariance(Height,Age) = -0.46\n",
      "[1,2] = Covariance(Weight,Age) = -3.35\n",
      "\n",
      "📝 METHOD 2: Using NumPy's built-in function\n",
      "Covariance Matrix (NumPy):\n",
      "[[ 1.00693431e+02  2.55229377e+02 -4.56483287e-01]\n",
      " [ 2.55229377e+02  8.72828428e+02 -3.35317601e+00]\n",
      " [-4.56483287e-01 -3.35317601e+00  2.33115490e+02]]\n",
      "\n",
      "✅ VERIFICATION: Manual vs NumPy\n",
      "Matrices are close: True\n"
     ]
    }
   ],
   "source": [
    "# 📊 COMPUTING THE COVARIANCE MATRIX\n",
    "print(\"\\n\" + \"=\"*60)\n",
    "print(\"🧮 CALCULATING COVARIANCE MATRIX\")\n",
    "print(\"=\"*60)\n",
    "\n",
    "# Method 1: Manual calculation (educational)\n",
    "print(\"📝 METHOD 1: Manual calculation\")\n",
    "\n",
    "# Center the data (subtract mean from each variable)\n",
    "data_centered = data - data.mean(dim=0)\n",
    "print(f\"Centered data shape: {data_centered.shape}\")\n",
    "\n",
    "# Covariance matrix = (X^T @ X) / (n-1)\n",
    "cov_matrix_manual = (data_centered.T @ data_centered) / (n_samples - 1)\n",
    "print(f\"\\nCovariance Matrix (manual calculation):\")\n",
    "print(cov_matrix_manual)\n",
    "\n",
    "print(f\"\\n🔍 INTERPRETING THE MATRIX:\")\n",
    "print(f\"[0,0] = Variance of Height = {cov_matrix_manual[0,0]:.2f}\")\n",
    "print(f\"[1,1] = Variance of Weight = {cov_matrix_manual[1,1]:.2f}\")  \n",
    "print(f\"[2,2] = Variance of Age = {cov_matrix_manual[2,2]:.2f}\")\n",
    "print(f\"[0,1] = Covariance(Height,Weight) = {cov_matrix_manual[0,1]:.2f}\")\n",
    "print(f\"[0,2] = Covariance(Height,Age) = {cov_matrix_manual[0,2]:.2f}\")\n",
    "print(f\"[1,2] = Covariance(Weight,Age) = {cov_matrix_manual[1,2]:.2f}\")\n",
    "\n",
    "# Method 2: Using NumPy (built-in function)\n",
    "print(f\"\\n📝 METHOD 2: Using NumPy's built-in function\")\n",
    "data_np = data.numpy()\n",
    "cov_matrix_numpy = np.cov(data_np.T)  # Note: transpose needed for np.cov\n",
    "print(f\"Covariance Matrix (NumPy):\")\n",
    "print(cov_matrix_numpy)\n",
    "\n",
    "print(f\"\\n✅ VERIFICATION: Manual vs NumPy\")\n",
    "print(f\"Matrices are close: {torch.allclose(cov_matrix_manual, torch.tensor(cov_matrix_numpy, dtype=torch.float32))}\")"
   ]
  },
  {
   "cell_type": "code",
   "execution_count": 153,
   "id": "762ac8f7",
   "metadata": {},
   "outputs": [
    {
     "name": "stdout",
     "output_type": "stream",
     "text": [
      "\n",
      "======================================================================\n",
      "🔍 WHAT DO THE COVARIANCE VALUES MEAN?\n",
      "======================================================================\n",
      "📊 COVARIANCE INTERPRETATION:\n",
      "Height-Weight covariance: 255.23\n",
      "   ✅ POSITIVE: As height increases, weight tends to increase\n",
      "\n",
      "Height-Age covariance: -0.46\n",
      "   ⚪ NEAR ZERO: Little to no linear relationship (as expected)\n",
      "\n",
      "Weight-Age covariance: -3.35\n",
      "   ⚪ NEAR ZERO: Little to no linear relationship (as expected)\n",
      "\n",
      "💡 MAGNITUDE INTERPRETATION:\n",
      "• Large positive: Strong positive relationship\n",
      "• Large negative: Strong negative relationship\n",
      "• Near zero: Weak/no linear relationship\n",
      "• Magnitude depends on units! (cm×kg vs m×g gives different values)\n",
      "\n",
      "🎯 KEY INSIGHT:\n",
      "Covariance magnitude is hard to interpret because it depends on units.\n",
      "That's why we often use CORRELATION instead (normalized covariance).\n"
     ]
    }
   ],
   "source": [
    "# 🎯 UNDERSTANDING COVARIANCE VALUES\n",
    "print(\"\\n\" + \"=\"*70)\n",
    "print(\"🔍 WHAT DO THE COVARIANCE VALUES MEAN?\")\n",
    "print(\"=\"*70)\n",
    "\n",
    "cov_hw = cov_matrix_manual[0,1].item()  # Height-Weight covariance\n",
    "cov_ha = cov_matrix_manual[0,2].item()  # Height-Age covariance  \n",
    "cov_wa = cov_matrix_manual[1,2].item()  # Weight-Age covariance\n",
    "\n",
    "print(\"📊 COVARIANCE INTERPRETATION:\")\n",
    "print(f\"Height-Weight covariance: {cov_hw:.2f}\")\n",
    "if cov_hw > 0:\n",
    "    print(\"   ✅ POSITIVE: As height increases, weight tends to increase\")\n",
    "elif cov_hw < 0:\n",
    "    print(\"   ❌ NEGATIVE: As height increases, weight tends to decrease\")\n",
    "else:\n",
    "    print(\"   ⚪ ZERO: No linear relationship\")\n",
    "\n",
    "print(f\"\\nHeight-Age covariance: {cov_ha:.2f}\")\n",
    "if abs(cov_ha) < 10:\n",
    "    print(\"   ⚪ NEAR ZERO: Little to no linear relationship (as expected)\")\n",
    "\n",
    "print(f\"\\nWeight-Age covariance: {cov_wa:.2f}\")\n",
    "if abs(cov_wa) < 20:\n",
    "    print(\"   ⚪ NEAR ZERO: Little to no linear relationship (as expected)\")\n",
    "\n",
    "print(\"\\n💡 MAGNITUDE INTERPRETATION:\")\n",
    "print(\"• Large positive: Strong positive relationship\")\n",
    "print(\"• Large negative: Strong negative relationship\") \n",
    "print(\"• Near zero: Weak/no linear relationship\")\n",
    "print(\"• Magnitude depends on units! (cm×kg vs m×g gives different values)\")\n",
    "\n",
    "print(\"\\n🎯 KEY INSIGHT:\")\n",
    "print(\"Covariance magnitude is hard to interpret because it depends on units.\")\n",
    "print(\"That's why we often use CORRELATION instead (normalized covariance).\")"
   ]
  },
  {
   "cell_type": "code",
   "execution_count": 154,
   "id": "2a236174",
   "metadata": {},
   "outputs": [
    {
     "name": "stdout",
     "output_type": "stream",
     "text": [
      "\n",
      "======================================================================\n",
      "🎯 FROM COVARIANCE TO CORRELATION\n",
      "======================================================================\n",
      "Standard deviations: tensor([10.0346, 29.5437, 15.2681])\n",
      "\n",
      "Correlation Matrix:\n",
      "tensor([[ 1.0000,  0.8609, -0.0030],\n",
      "        [ 0.8609,  1.0000, -0.0074],\n",
      "        [-0.0030, -0.0074,  1.0000]])\n",
      "\n",
      "🔍 INTERPRETING CORRELATIONS:\n",
      "Height-Weight correlation: 0.861\n",
      "   💪 STRONG positive correlation\n",
      "Height-Age correlation: -0.003\n",
      "Weight-Age correlation: -0.007\n",
      "\n",
      "📊 CORRELATION RANGE:\n",
      "• Correlation values always range from -1 to +1\n",
      "• +1: Perfect positive correlation\n",
      "• -1: Perfect negative correlation\n",
      "• 0: No linear correlation\n",
      "• Unlike covariance, correlation is unit-free!\n"
     ]
    }
   ],
   "source": [
    "# 📈 CORRELATION MATRIX: The Normalized Version\n",
    "print(\"\\n\" + \"=\"*70)\n",
    "print(\"🎯 FROM COVARIANCE TO CORRELATION\")\n",
    "print(\"=\"*70)\n",
    "\n",
    "# Calculate correlation matrix: Corr(X,Y) = Cov(X,Y) / (std(X) * std(Y))\n",
    "std_devs = torch.sqrt(torch.diag(cov_matrix_manual))  # Standard deviations\n",
    "print(f\"Standard deviations: {std_devs}\")\n",
    "\n",
    "# Create correlation matrix\n",
    "correlation_matrix = torch.zeros_like(cov_matrix_manual)\n",
    "for i in range(3):\n",
    "    for j in range(3):\n",
    "        correlation_matrix[i,j] = cov_matrix_manual[i,j] / (std_devs[i] * std_devs[j])\n",
    "\n",
    "print(f\"\\nCorrelation Matrix:\")\n",
    "print(correlation_matrix)\n",
    "\n",
    "print(f\"\\n🔍 INTERPRETING CORRELATIONS:\")\n",
    "print(f\"Height-Weight correlation: {correlation_matrix[0,1]:.3f}\")\n",
    "if correlation_matrix[0,1] > 0.7:\n",
    "    print(\"   💪 STRONG positive correlation\")\n",
    "elif correlation_matrix[0,1] > 0.3:\n",
    "    print(\"   👍 MODERATE positive correlation\")\n",
    "elif correlation_matrix[0,1] > 0:\n",
    "    print(\"   🤏 WEAK positive correlation\")\n",
    "\n",
    "print(f\"Height-Age correlation: {correlation_matrix[0,2]:.3f}\")\n",
    "print(f\"Weight-Age correlation: {correlation_matrix[1,2]:.3f}\")\n",
    "\n",
    "print(f\"\\n📊 CORRELATION RANGE:\")\n",
    "print(\"• Correlation values always range from -1 to +1\")\n",
    "print(\"• +1: Perfect positive correlation\")\n",
    "print(\"• -1: Perfect negative correlation\")  \n",
    "print(\"• 0: No linear correlation\")\n",
    "print(\"• Unlike covariance, correlation is unit-free!\")"
   ]
  },
  {
   "cell_type": "code",
   "execution_count": 155,
   "id": "4efc36d3",
   "metadata": {},
   "outputs": [
    {
     "name": "stdout",
     "output_type": "stream",
     "text": [
      "\n",
      "======================================================================\n",
      "📊 VISUAL REPRESENTATION\n",
      "======================================================================\n"
     ]
    },
    {
     "data": {
      "image/png": "[encoded data removed]",
      "text/plain": [
       "<Figure size 1200x500 with 4 Axes>"
      ]
     },
     "metadata": {},
     "output_type": "display_data"
    },
    {
     "name": "stdout",
     "output_type": "stream",
     "text": [
      "🔍 VISUAL INTERPRETATION:\n",
      "• Darker red: Strong positive relationship\n",
      "• Darker blue: Strong negative relationship\n",
      "• White/light: Weak relationship\n",
      "• Diagonal is always strongest (variable with itself)\n"
     ]
    }
   ],
   "source": [
    "# 🎨 VISUALIZING THE COVARIANCE MATRIX\n",
    "print(\"\\n\" + \"=\"*70)\n",
    "print(\"📊 VISUAL REPRESENTATION\")\n",
    "print(\"=\"*70)\n",
    "\n",
    "# Create a heatmap to visualize the covariance matrix\n",
    "fig, (ax1, ax2) = plt.subplots(1, 2, figsize=(12, 5))\n",
    "\n",
    "# Plot 1: Covariance Matrix Heatmap\n",
    "im1 = ax1.imshow(cov_matrix_manual.numpy(), cmap='RdBu', aspect='auto')\n",
    "ax1.set_title('Covariance Matrix')\n",
    "ax1.set_xticks([0, 1, 2])\n",
    "ax1.set_yticks([0, 1, 2])\n",
    "ax1.set_xticklabels(['Height', 'Weight', 'Age'])\n",
    "ax1.set_yticklabels(['Height', 'Weight', 'Age'])\n",
    "\n",
    "# Add text annotations\n",
    "for i in range(3):\n",
    "    for j in range(3):\n",
    "        text = ax1.text(j, i, f'{cov_matrix_manual[i, j]:.1f}',\n",
    "                       ha=\"center\", va=\"center\", color=\"black\", fontweight='bold')\n",
    "\n",
    "plt.colorbar(im1, ax=ax1, label='Covariance')\n",
    "\n",
    "# Plot 2: Correlation Matrix Heatmap  \n",
    "im2 = ax2.imshow(correlation_matrix.numpy(), cmap='RdBu', vmin=-1, vmax=1, aspect='auto')\n",
    "ax2.set_title('Correlation Matrix')\n",
    "ax2.set_xticks([0, 1, 2])\n",
    "ax2.set_yticks([0, 1, 2])\n",
    "ax2.set_xticklabels(['Height', 'Weight', 'Age'])\n",
    "ax2.set_yticklabels(['Height', 'Weight', 'Age'])\n",
    "\n",
    "# Add text annotations\n",
    "for i in range(3):\n",
    "    for j in range(3):\n",
    "        text = ax2.text(j, i, f'{correlation_matrix[i, j]:.2f}',\n",
    "                       ha=\"center\", va=\"center\", color=\"black\", fontweight='bold')\n",
    "\n",
    "plt.colorbar(im2, ax=ax2, label='Correlation')\n",
    "\n",
    "plt.tight_layout()\n",
    "plt.show()\n",
    "\n",
    "print(\"🔍 VISUAL INTERPRETATION:\")\n",
    "print(\"• Darker red: Strong positive relationship\")\n",
    "print(\"• Darker blue: Strong negative relationship\")\n",
    "print(\"• White/light: Weak relationship\")\n",
    "print(\"• Diagonal is always strongest (variable with itself)\")"
   ]
  },
  {
   "cell_type": "code",
   "execution_count": 156,
   "id": "22b198dc",
   "metadata": {},
   "outputs": [
    {
     "name": "stdout",
     "output_type": "stream",
     "text": [
      "\n",
      "================================================================================\n",
      "🌍 WHERE ARE COVARIANCE MATRICES USED?\n",
      "================================================================================\n",
      "1️⃣ MACHINE LEARNING:\n",
      "   • Principal Component Analysis (PCA) - dimensionality reduction\n",
      "   • Gaussian distributions - modeling data probability\n",
      "   • Feature correlation analysis - understanding relationships\n",
      "\n",
      "2️⃣ FINANCE:\n",
      "   • Portfolio optimization - balancing risk and return\n",
      "   • Risk management - understanding asset correlations\n",
      "   • Market analysis - how stocks move together\n",
      "\n",
      "3️⃣ STATISTICS:\n",
      "   • Multivariate analysis - studying multiple variables\n",
      "   • Hypothesis testing - comparing groups of variables\n",
      "   • Regression analysis - understanding variable relationships\n",
      "\n",
      "4️⃣ COMPUTER VISION:\n",
      "   • Image processing - pixel correlation patterns\n",
      "   • Feature detection - understanding visual relationships\n",
      "   • Pattern recognition - identifying similar structures\n",
      "\n",
      "5️⃣ SIGNAL PROCESSING:\n",
      "   • Noise reduction - understanding signal correlations\n",
      "   • Data compression - removing redundant information\n",
      "   • Communication systems - optimizing data transmission\n",
      "\n",
      "🔑 KEY TAKEAWAY:\n",
      "Covariance matrices help us understand how multiple variables\n",
      "relate to each other, which is fundamental in data science!\n"
     ]
    }
   ],
   "source": [
    "# 🎯 REAL-WORLD APPLICATIONS OF COVARIANCE MATRICES\n",
    "print(\"\\n\" + \"=\"*80)\n",
    "print(\"🌍 WHERE ARE COVARIANCE MATRICES USED?\")\n",
    "print(\"=\"*80)\n",
    "\n",
    "print(\"1️⃣ MACHINE LEARNING:\")\n",
    "print(\"   • Principal Component Analysis (PCA) - dimensionality reduction\")\n",
    "print(\"   • Gaussian distributions - modeling data probability\")\n",
    "print(\"   • Feature correlation analysis - understanding relationships\")\n",
    "\n",
    "print(\"\\n2️⃣ FINANCE:\")\n",
    "print(\"   • Portfolio optimization - balancing risk and return\")\n",
    "print(\"   • Risk management - understanding asset correlations\")\n",
    "print(\"   • Market analysis - how stocks move together\")\n",
    "\n",
    "print(\"\\n3️⃣ STATISTICS:\")\n",
    "print(\"   • Multivariate analysis - studying multiple variables\")\n",
    "print(\"   • Hypothesis testing - comparing groups of variables\")\n",
    "print(\"   • Regression analysis - understanding variable relationships\")\n",
    "\n",
    "print(\"\\n4️⃣ COMPUTER VISION:\")\n",
    "print(\"   • Image processing - pixel correlation patterns\")\n",
    "print(\"   • Feature detection - understanding visual relationships\")\n",
    "print(\"   • Pattern recognition - identifying similar structures\")\n",
    "\n",
    "print(\"\\n5️⃣ SIGNAL PROCESSING:\")\n",
    "print(\"   • Noise reduction - understanding signal correlations\")\n",
    "print(\"   • Data compression - removing redundant information\")\n",
    "print(\"   • Communication systems - optimizing data transmission\")\n",
    "\n",
    "print(\"\\n🔑 KEY TAKEAWAY:\")\n",
    "print(\"Covariance matrices help us understand how multiple variables\")\n",
    "print(\"relate to each other, which is fundamental in data science!\")"
   ]
  },
  {
   "cell_type": "markdown",
   "id": "3a5afdab",
   "metadata": {},
   "source": [
    "### =======================loopup-api.md===================================="
   ]
  },
  {
   "cell_type": "code",
   "execution_count": null,
   "id": "fa898535",
   "metadata": {},
   "outputs": [],
   "source": [
    "# https://docs.pytorch.org/docs/stable/index.html"
   ]
  },
  {
   "cell_type": "code",
   "execution_count": 158,
   "id": "17057cd6",
   "metadata": {},
   "outputs": [
    {
     "name": "stdout",
     "output_type": "stream",
     "text": [
      "['AbsTransform', 'AffineTransform', 'Bernoulli', 'Beta', 'Binomial', 'CatTransform', 'Categorical', 'Cauchy', 'Chi2', 'ComposeTransform', 'ContinuousBernoulli', 'CorrCholeskyTransform', 'CumulativeDistributionTransform', 'Dirichlet', 'Distribution', 'ExpTransform', 'Exponential', 'ExponentialFamily', 'FisherSnedecor', 'Gamma', 'GeneralizedPareto', 'Geometric', 'Gumbel', 'HalfCauchy', 'HalfNormal', 'Independent', 'IndependentTransform', 'InverseGamma', 'Kumaraswamy', 'LKJCholesky', 'Laplace', 'LogNormal', 'LogisticNormal', 'LowRankMultivariateNormal', 'LowerCholeskyTransform', 'MixtureSameFamily', 'Multinomial', 'MultivariateNormal', 'NegativeBinomial', 'Normal', 'OneHotCategorical', 'OneHotCategoricalStraightThrough', 'Pareto', 'Poisson', 'PositiveDefiniteTransform', 'PowerTransform', 'RelaxedBernoulli', 'RelaxedOneHotCategorical', 'ReshapeTransform', 'SigmoidTransform', 'SoftmaxTransform', 'SoftplusTransform', 'StackTransform', 'StickBreakingTransform', 'StudentT', 'TanhTransform', 'Transform', 'TransformedDistribution', 'Uniform', 'VonMises', 'Weibull', 'Wishart', '__all__', '__builtins__', '__cached__', '__doc__', '__file__', '__loader__', '__name__', '__package__', '__path__', '__spec__', 'bernoulli', 'beta', 'biject_to', 'binomial', 'categorical', 'cauchy', 'chi2', 'constraint_registry', 'constraints', 'continuous_bernoulli', 'dirichlet', 'distribution', 'exp_family', 'exponential', 'fishersnedecor', 'gamma', 'generalized_pareto', 'geometric', 'gumbel', 'half_cauchy', 'half_normal', 'identity_transform', 'independent', 'inverse_gamma', 'kl', 'kl_divergence', 'kumaraswamy', 'laplace', 'lkj_cholesky', 'log_normal', 'logistic_normal', 'lowrank_multivariate_normal', 'mixture_same_family', 'multinomial', 'multivariate_normal', 'negative_binomial', 'normal', 'one_hot_categorical', 'pareto', 'poisson', 'register_kl', 'relaxed_bernoulli', 'relaxed_categorical', 'studentT', 'transform_to', 'transformed_distribution', 'transforms', 'uniform', 'utils', 'von_mises', 'weibull', 'wishart']\n"
     ]
    }
   ],
   "source": [
    "# To know which functions and classes can be called in a module\n",
    "print(dir(torch.distributions))\n"
   ]
  },
  {
   "cell_type": "code",
   "execution_count": 159,
   "id": "0cd84a31",
   "metadata": {},
   "outputs": [
    {
     "name": "stdout",
     "output_type": "stream",
     "text": [
      "Help on built-in function ones in module torch:\n",
      "\n",
      "ones(...)\n",
      "    ones(*size, *, out=None, dtype=None, layout=torch.strided, device=None, requires_grad=False) -> Tensor\n",
      "\n",
      "    Returns a tensor filled with the scalar value `1`, with the shape defined\n",
      "    by the variable argument :attr:`size`.\n",
      "\n",
      "    Args:\n",
      "        size (int...): a sequence of integers defining the shape of the output tensor.\n",
      "            Can be a variable number of arguments or a collection like a list or tuple.\n",
      "\n",
      "    Keyword arguments:\n",
      "        out (Tensor, optional): the output tensor.\n",
      "        dtype (:class:`torch.dtype`, optional): the desired data type of returned tensor.\n",
      "            Default: if ``None``, uses a global default (see :func:`torch.set_default_dtype`).\n",
      "        layout (:class:`torch.layout`, optional): the desired layout of returned Tensor.\n",
      "            Default: ``torch.strided``.\n",
      "        device (:class:`torch.device`, optional): the desired device of returned tensor.\n",
      "            Default: if ``None``, uses the current device for the default tensor type\n",
      "            (see :func:`torch.set_default_device`). :attr:`device` will be the CPU\n",
      "            for CPU tensor types and the current CUDA device for CUDA tensor types.\n",
      "        requires_grad (bool, optional): If autograd should record operations on the\n",
      "            returned tensor. Default: ``False``.\n",
      "\n",
      "    Example::\n",
      "\n",
      "        >>> torch.ones(2, 3)\n",
      "        tensor([[ 1.,  1.,  1.],\n",
      "                [ 1.,  1.,  1.]])\n",
      "\n",
      "        >>> torch.ones(5)\n",
      "        tensor([ 1.,  1.,  1.,  1.,  1.])\n",
      "\n"
     ]
    }
   ],
   "source": [
    "help(torch.ones)\n"
   ]
  },
  {
   "cell_type": "code",
   "execution_count": null,
   "id": "78541cbd",
   "metadata": {},
   "outputs": [],
   "source": []
  },
  {
   "cell_type": "code",
   "execution_count": null,
   "id": "33727356",
   "metadata": {},
   "outputs": [],
   "source": []
  }
 ],
 "metadata": {
  "kernelspec": {
   "display_name": ".venv311",
   "language": "python",
   "name": "python3"
  },
  "language_info": {
   "codemirror_mode": {
    "name": "ipython",
    "version": 3
   },
   "file_extension": ".py",
   "mimetype": "text/x-python",
   "name": "python",
   "nbconvert_exporter": "python",
   "pygments_lexer": "ipython3",
   "version": "3.11.9"
  }
 },
 "nbformat": 4,
 "nbformat_minor": 5
}
